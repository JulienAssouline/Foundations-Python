{
 "cells": [
  {
   "cell_type": "markdown",
   "metadata": {},
   "source": [
    "# Exercise: Cherry Blossoms!\n",
    "\n",
    "#### Summary\n",
    "\n",
    "Once upon a time it was サクラ season, which meant the [cherry blossoms](https://en.wikipedia.org/wiki/Cherry_blossom) were in full bloom! This year they bloomed a little early and they've long sinced faded, so for today we'll stick with data-driven blossoms: http://atmenv.envi.osakafu-u.ac.jp/aono/kyophenotemp4/\n",
    "\n",
    "#### Data Source(s)\n",
    "\n",
    "Historical Series of Phenological data for Cherry Tree Flowering at Kyoto City\n",
    "(and March Mean Temperature Reconstructions), http://atmenv.envi.osakafu-u.ac.jp/aono/kyophenotemp4/\n",
    "\n",
    "#### Files\n",
    "\n",
    "- KyotoFullFlower7.xls, \"Full-flowering Dates of Prunus jamasakura in Kyoto City\"\n",
    "\n",
    "#### Skills\n",
    "\n",
    "- Working with Excel files\n",
    "- Ignoring the first few rows\n",
    "- Replacing NaN values\n",
    "- Counting and summarizing columns\n",
    "- Replacing non-NaN values\n",
    "- Extracting with strings\n",
    "- Rolling means"
   ]
  },
  {
   "cell_type": "markdown",
   "metadata": {},
   "source": [
    "# Read in `KyotoFullFlower7.xls`\n",
    "\n",
    "Be sure to look at the first five rows."
   ]
  },
  {
   "cell_type": "code",
   "execution_count": 1,
   "metadata": {},
   "outputs": [],
   "source": [
    "import pandas as pd\n",
    "import xlrd\n",
    "%matplotlib inline\n"
   ]
  },
  {
   "cell_type": "code",
   "execution_count": 2,
   "metadata": {},
   "outputs": [
    {
     "data": {
      "text/html": [
       "<div>\n",
       "<style>\n",
       "    .dataframe thead tr:only-child th {\n",
       "        text-align: right;\n",
       "    }\n",
       "\n",
       "    .dataframe thead th {\n",
       "        text-align: left;\n",
       "    }\n",
       "\n",
       "    .dataframe tbody tr th {\n",
       "        vertical-align: top;\n",
       "    }\n",
       "</style>\n",
       "<table border=\"1\" class=\"dataframe\">\n",
       "  <thead>\n",
       "    <tr style=\"text-align: right;\">\n",
       "      <th></th>\n",
       "      <th>AD</th>\n",
       "      <th>Full-flowering date (DOY)</th>\n",
       "      <th>Full-flowering date</th>\n",
       "      <th>Source code</th>\n",
       "      <th>Data type code</th>\n",
       "      <th>Reference Name</th>\n",
       "    </tr>\n",
       "  </thead>\n",
       "  <tbody>\n",
       "    <tr>\n",
       "      <th>0</th>\n",
       "      <td>801</td>\n",
       "      <td>NaN</td>\n",
       "      <td>NaN</td>\n",
       "      <td>NaN</td>\n",
       "      <td>NaN</td>\n",
       "      <td>-</td>\n",
       "    </tr>\n",
       "    <tr>\n",
       "      <th>1</th>\n",
       "      <td>802</td>\n",
       "      <td>NaN</td>\n",
       "      <td>NaN</td>\n",
       "      <td>NaN</td>\n",
       "      <td>NaN</td>\n",
       "      <td>-</td>\n",
       "    </tr>\n",
       "    <tr>\n",
       "      <th>2</th>\n",
       "      <td>803</td>\n",
       "      <td>NaN</td>\n",
       "      <td>NaN</td>\n",
       "      <td>NaN</td>\n",
       "      <td>NaN</td>\n",
       "      <td>-</td>\n",
       "    </tr>\n",
       "    <tr>\n",
       "      <th>3</th>\n",
       "      <td>804</td>\n",
       "      <td>NaN</td>\n",
       "      <td>NaN</td>\n",
       "      <td>NaN</td>\n",
       "      <td>NaN</td>\n",
       "      <td>-</td>\n",
       "    </tr>\n",
       "    <tr>\n",
       "      <th>4</th>\n",
       "      <td>805</td>\n",
       "      <td>NaN</td>\n",
       "      <td>NaN</td>\n",
       "      <td>NaN</td>\n",
       "      <td>NaN</td>\n",
       "      <td>-</td>\n",
       "    </tr>\n",
       "  </tbody>\n",
       "</table>\n",
       "</div>"
      ],
      "text/plain": [
       "    AD  Full-flowering date (DOY)  Full-flowering date  Source code  \\\n",
       "0  801                        NaN                  NaN          NaN   \n",
       "1  802                        NaN                  NaN          NaN   \n",
       "2  803                        NaN                  NaN          NaN   \n",
       "3  804                        NaN                  NaN          NaN   \n",
       "4  805                        NaN                  NaN          NaN   \n",
       "\n",
       "   Data type code Reference Name  \n",
       "0             NaN              -  \n",
       "1             NaN              -  \n",
       "2             NaN              -  \n",
       "3             NaN              -  \n",
       "4             NaN              -  "
      ]
     },
     "execution_count": 2,
     "metadata": {},
     "output_type": "execute_result"
    }
   ],
   "source": [
    "df = pd.read_excel(\"KyotoFullFlower7.xls\", skiprows=25)\n",
    "df.head()\n"
   ]
  },
  {
   "cell_type": "markdown",
   "metadata": {},
   "source": [
    "### That... doesn't look right. Why not? \n",
    "\n",
    "Examine your column names, and maybe even open up the file in Excel."
   ]
  },
  {
   "cell_type": "code",
   "execution_count": null,
   "metadata": {
    "collapsed": true
   },
   "outputs": [],
   "source": []
  },
  {
   "cell_type": "markdown",
   "metadata": {},
   "source": [
    "### Read in the file correctly, and look at the first five rows\n",
    "\n",
    "- TIP: The first year should be 801 AD, and it should not have any dates or anything."
   ]
  },
  {
   "cell_type": "code",
   "execution_count": null,
   "metadata": {
    "collapsed": true
   },
   "outputs": [],
   "source": []
  },
  {
   "cell_type": "markdown",
   "metadata": {},
   "source": [
    "### Look at the final five rows of the data"
   ]
  },
  {
   "cell_type": "code",
   "execution_count": 3,
   "metadata": {},
   "outputs": [
    {
     "data": {
      "text/html": [
       "<div>\n",
       "<style>\n",
       "    .dataframe thead tr:only-child th {\n",
       "        text-align: right;\n",
       "    }\n",
       "\n",
       "    .dataframe thead th {\n",
       "        text-align: left;\n",
       "    }\n",
       "\n",
       "    .dataframe tbody tr th {\n",
       "        vertical-align: top;\n",
       "    }\n",
       "</style>\n",
       "<table border=\"1\" class=\"dataframe\">\n",
       "  <thead>\n",
       "    <tr style=\"text-align: right;\">\n",
       "      <th></th>\n",
       "      <th>AD</th>\n",
       "      <th>Full-flowering date (DOY)</th>\n",
       "      <th>Full-flowering date</th>\n",
       "      <th>Source code</th>\n",
       "      <th>Data type code</th>\n",
       "      <th>Reference Name</th>\n",
       "    </tr>\n",
       "  </thead>\n",
       "  <tbody>\n",
       "    <tr>\n",
       "      <th>1210</th>\n",
       "      <td>2011</td>\n",
       "      <td>99.0</td>\n",
       "      <td>409.0</td>\n",
       "      <td>8.0</td>\n",
       "      <td>0.0</td>\n",
       "      <td>NEWS-PAPER(ARASHIYAMA)</td>\n",
       "    </tr>\n",
       "    <tr>\n",
       "      <th>1211</th>\n",
       "      <td>2012</td>\n",
       "      <td>101.0</td>\n",
       "      <td>410.0</td>\n",
       "      <td>8.0</td>\n",
       "      <td>0.0</td>\n",
       "      <td>NEWS-PAPER(ARASHIYAMA)</td>\n",
       "    </tr>\n",
       "    <tr>\n",
       "      <th>1212</th>\n",
       "      <td>2013</td>\n",
       "      <td>93.0</td>\n",
       "      <td>403.0</td>\n",
       "      <td>8.0</td>\n",
       "      <td>0.0</td>\n",
       "      <td>NEWS-PAPER(ARASHIYAMA)</td>\n",
       "    </tr>\n",
       "    <tr>\n",
       "      <th>1213</th>\n",
       "      <td>2014</td>\n",
       "      <td>94.0</td>\n",
       "      <td>404.0</td>\n",
       "      <td>8.0</td>\n",
       "      <td>0.0</td>\n",
       "      <td>NEWS-PAPER(ARASHIYAMA)</td>\n",
       "    </tr>\n",
       "    <tr>\n",
       "      <th>1214</th>\n",
       "      <td>2015</td>\n",
       "      <td>93.0</td>\n",
       "      <td>403.0</td>\n",
       "      <td>8.0</td>\n",
       "      <td>0.0</td>\n",
       "      <td>NEWS-PAPER(ARASHIYAMA)</td>\n",
       "    </tr>\n",
       "  </tbody>\n",
       "</table>\n",
       "</div>"
      ],
      "text/plain": [
       "        AD  Full-flowering date (DOY)  Full-flowering date  Source code  \\\n",
       "1210  2011                       99.0                409.0          8.0   \n",
       "1211  2012                      101.0                410.0          8.0   \n",
       "1212  2013                       93.0                403.0          8.0   \n",
       "1213  2014                       94.0                404.0          8.0   \n",
       "1214  2015                       93.0                403.0          8.0   \n",
       "\n",
       "      Data type code          Reference Name  \n",
       "1210             0.0  NEWS-PAPER(ARASHIYAMA)  \n",
       "1211             0.0  NEWS-PAPER(ARASHIYAMA)  \n",
       "1212             0.0  NEWS-PAPER(ARASHIYAMA)  \n",
       "1213             0.0  NEWS-PAPER(ARASHIYAMA)  \n",
       "1214             0.0  NEWS-PAPER(ARASHIYAMA)  "
      ]
     },
     "execution_count": 3,
     "metadata": {},
     "output_type": "execute_result"
    }
   ],
   "source": [
    "df.tail()"
   ]
  },
  {
   "cell_type": "markdown",
   "metadata": {},
   "source": [
    "## Watching out for NaN values"
   ]
  },
  {
   "cell_type": "markdown",
   "metadata": {},
   "source": [
    "Take a look at **Reference name**. Is there something you should set to be `NaN`? Use either of the two ways we have covered."
   ]
  },
  {
   "cell_type": "code",
   "execution_count": 4,
   "metadata": {},
   "outputs": [
    {
     "data": {
      "text/html": [
       "<div>\n",
       "<style>\n",
       "    .dataframe thead tr:only-child th {\n",
       "        text-align: right;\n",
       "    }\n",
       "\n",
       "    .dataframe thead th {\n",
       "        text-align: left;\n",
       "    }\n",
       "\n",
       "    .dataframe tbody tr th {\n",
       "        vertical-align: top;\n",
       "    }\n",
       "</style>\n",
       "<table border=\"1\" class=\"dataframe\">\n",
       "  <thead>\n",
       "    <tr style=\"text-align: right;\">\n",
       "      <th></th>\n",
       "      <th>AD</th>\n",
       "      <th>Full-flowering date (DOY)</th>\n",
       "      <th>Full-flowering date</th>\n",
       "      <th>Source code</th>\n",
       "      <th>Data type code</th>\n",
       "      <th>Reference Name</th>\n",
       "    </tr>\n",
       "  </thead>\n",
       "  <tbody>\n",
       "    <tr>\n",
       "      <th>0</th>\n",
       "      <td>801</td>\n",
       "      <td>NaN</td>\n",
       "      <td>NaN</td>\n",
       "      <td>NaN</td>\n",
       "      <td>NaN</td>\n",
       "      <td>NaN</td>\n",
       "    </tr>\n",
       "    <tr>\n",
       "      <th>1</th>\n",
       "      <td>802</td>\n",
       "      <td>NaN</td>\n",
       "      <td>NaN</td>\n",
       "      <td>NaN</td>\n",
       "      <td>NaN</td>\n",
       "      <td>NaN</td>\n",
       "    </tr>\n",
       "    <tr>\n",
       "      <th>2</th>\n",
       "      <td>803</td>\n",
       "      <td>NaN</td>\n",
       "      <td>NaN</td>\n",
       "      <td>NaN</td>\n",
       "      <td>NaN</td>\n",
       "      <td>NaN</td>\n",
       "    </tr>\n",
       "    <tr>\n",
       "      <th>3</th>\n",
       "      <td>804</td>\n",
       "      <td>NaN</td>\n",
       "      <td>NaN</td>\n",
       "      <td>NaN</td>\n",
       "      <td>NaN</td>\n",
       "      <td>NaN</td>\n",
       "    </tr>\n",
       "    <tr>\n",
       "      <th>4</th>\n",
       "      <td>805</td>\n",
       "      <td>NaN</td>\n",
       "      <td>NaN</td>\n",
       "      <td>NaN</td>\n",
       "      <td>NaN</td>\n",
       "      <td>NaN</td>\n",
       "    </tr>\n",
       "  </tbody>\n",
       "</table>\n",
       "</div>"
      ],
      "text/plain": [
       "    AD  Full-flowering date (DOY)  Full-flowering date  Source code  \\\n",
       "0  801                        NaN                  NaN          NaN   \n",
       "1  802                        NaN                  NaN          NaN   \n",
       "2  803                        NaN                  NaN          NaN   \n",
       "3  804                        NaN                  NaN          NaN   \n",
       "4  805                        NaN                  NaN          NaN   \n",
       "\n",
       "   Data type code Reference Name  \n",
       "0             NaN            NaN  \n",
       "1             NaN            NaN  \n",
       "2             NaN            NaN  \n",
       "3             NaN            NaN  \n",
       "4             NaN            NaN  "
      ]
     },
     "execution_count": 4,
     "metadata": {},
     "output_type": "execute_result"
    }
   ],
   "source": [
    "df[\"Reference Name\"].replace(\"-\", \"NaN\", inplace=True)\n",
    "df.head()"
   ]
  },
  {
   "cell_type": "code",
   "execution_count": 5,
   "metadata": {
    "collapsed": true
   },
   "outputs": [],
   "source": [
    "df = df.dropna(axis=0, how='any')"
   ]
  },
  {
   "cell_type": "code",
   "execution_count": 6,
   "metadata": {},
   "outputs": [
    {
     "data": {
      "text/html": [
       "<div>\n",
       "<style>\n",
       "    .dataframe thead tr:only-child th {\n",
       "        text-align: right;\n",
       "    }\n",
       "\n",
       "    .dataframe thead th {\n",
       "        text-align: left;\n",
       "    }\n",
       "\n",
       "    .dataframe tbody tr th {\n",
       "        vertical-align: top;\n",
       "    }\n",
       "</style>\n",
       "<table border=\"1\" class=\"dataframe\">\n",
       "  <thead>\n",
       "    <tr style=\"text-align: right;\">\n",
       "      <th></th>\n",
       "      <th>AD</th>\n",
       "      <th>Full-flowering date (DOY)</th>\n",
       "      <th>Full-flowering date</th>\n",
       "      <th>Source code</th>\n",
       "      <th>Data type code</th>\n",
       "      <th>Reference Name</th>\n",
       "    </tr>\n",
       "  </thead>\n",
       "  <tbody>\n",
       "    <tr>\n",
       "      <th>11</th>\n",
       "      <td>812</td>\n",
       "      <td>92.0</td>\n",
       "      <td>401.0</td>\n",
       "      <td>1.0</td>\n",
       "      <td>2.0</td>\n",
       "      <td>NIHON-KOKI</td>\n",
       "    </tr>\n",
       "    <tr>\n",
       "      <th>14</th>\n",
       "      <td>815</td>\n",
       "      <td>105.0</td>\n",
       "      <td>415.0</td>\n",
       "      <td>1.0</td>\n",
       "      <td>2.0</td>\n",
       "      <td>NIHON-KOKI</td>\n",
       "    </tr>\n",
       "    <tr>\n",
       "      <th>30</th>\n",
       "      <td>831</td>\n",
       "      <td>96.0</td>\n",
       "      <td>406.0</td>\n",
       "      <td>1.0</td>\n",
       "      <td>2.0</td>\n",
       "      <td>NIHON-KOKI</td>\n",
       "    </tr>\n",
       "    <tr>\n",
       "      <th>50</th>\n",
       "      <td>851</td>\n",
       "      <td>108.0</td>\n",
       "      <td>418.0</td>\n",
       "      <td>1.0</td>\n",
       "      <td>2.0</td>\n",
       "      <td>MONTOKUTENNO-JITSUROKU</td>\n",
       "    </tr>\n",
       "    <tr>\n",
       "      <th>52</th>\n",
       "      <td>853</td>\n",
       "      <td>104.0</td>\n",
       "      <td>414.0</td>\n",
       "      <td>1.0</td>\n",
       "      <td>2.0</td>\n",
       "      <td>MONTOKUTENNO-JITSUROKU</td>\n",
       "    </tr>\n",
       "  </tbody>\n",
       "</table>\n",
       "</div>"
      ],
      "text/plain": [
       "     AD  Full-flowering date (DOY)  Full-flowering date  Source code  \\\n",
       "11  812                       92.0                401.0          1.0   \n",
       "14  815                      105.0                415.0          1.0   \n",
       "30  831                       96.0                406.0          1.0   \n",
       "50  851                      108.0                418.0          1.0   \n",
       "52  853                      104.0                414.0          1.0   \n",
       "\n",
       "    Data type code          Reference Name  \n",
       "11             2.0              NIHON-KOKI  \n",
       "14             2.0              NIHON-KOKI  \n",
       "30             2.0              NIHON-KOKI  \n",
       "50             2.0  MONTOKUTENNO-JITSUROKU  \n",
       "52             2.0  MONTOKUTENNO-JITSUROKU  "
      ]
     },
     "execution_count": 6,
     "metadata": {},
     "output_type": "execute_result"
    }
   ],
   "source": [
    "df.head()"
   ]
  },
  {
   "cell_type": "markdown",
   "metadata": {},
   "source": [
    "### Check that you have 827 values for \"Full-flowering date (DOY)\" and 825 for \"Reference Name\""
   ]
  },
  {
   "cell_type": "code",
   "execution_count": 7,
   "metadata": {},
   "outputs": [
    {
     "data": {
      "text/plain": [
       "(825,)"
      ]
     },
     "execution_count": 7,
     "metadata": {},
     "output_type": "execute_result"
    }
   ],
   "source": [
    "df[\"Full-flowering date (DOY)\"].shape\n"
   ]
  },
  {
   "cell_type": "code",
   "execution_count": 8,
   "metadata": {},
   "outputs": [
    {
     "data": {
      "text/plain": [
       "(825,)"
      ]
     },
     "execution_count": 8,
     "metadata": {},
     "output_type": "execute_result"
    }
   ],
   "source": [
    "df[\"Reference Name\"].shape\n"
   ]
  },
  {
   "cell_type": "markdown",
   "metadata": {},
   "source": [
    "# Cleaning up our data"
   ]
  },
  {
   "cell_type": "markdown",
   "metadata": {},
   "source": [
    "## What sources are the most common as a reference?"
   ]
  },
  {
   "cell_type": "code",
   "execution_count": 9,
   "metadata": {},
   "outputs": [
    {
     "data": {
      "text/plain": [
       "NEWS-PAPER(ARASHIYAMA)    94\n",
       "SUGIURAKE-NIKKI           38\n",
       "MYOHOIN-HINAMIKI          32\n",
       "OYUDONONO-UENO-NIKKI      26\n",
       "DAIGOJI-ZATSUYO           21\n",
       "Name: Reference Name, dtype: int64"
      ]
     },
     "execution_count": 9,
     "metadata": {},
     "output_type": "execute_result"
    }
   ],
   "source": [
    "df[\"Reference Name\"].value_counts().head()"
   ]
  },
  {
   "cell_type": "markdown",
   "metadata": {},
   "source": [
    "## Filter the list to only include rows that have a `Full-flowering date (DOY)`"
   ]
  },
  {
   "cell_type": "code",
   "execution_count": 10,
   "metadata": {},
   "outputs": [
    {
     "data": {
      "text/html": [
       "<div>\n",
       "<style>\n",
       "    .dataframe thead tr:only-child th {\n",
       "        text-align: right;\n",
       "    }\n",
       "\n",
       "    .dataframe thead th {\n",
       "        text-align: left;\n",
       "    }\n",
       "\n",
       "    .dataframe tbody tr th {\n",
       "        vertical-align: top;\n",
       "    }\n",
       "</style>\n",
       "<table border=\"1\" class=\"dataframe\">\n",
       "  <thead>\n",
       "    <tr style=\"text-align: right;\">\n",
       "      <th></th>\n",
       "      <th>AD</th>\n",
       "      <th>Full-flowering date (DOY)</th>\n",
       "      <th>Full-flowering date</th>\n",
       "      <th>Source code</th>\n",
       "      <th>Data type code</th>\n",
       "      <th>Reference Name</th>\n",
       "    </tr>\n",
       "  </thead>\n",
       "  <tbody>\n",
       "    <tr>\n",
       "      <th>11</th>\n",
       "      <td>812</td>\n",
       "      <td>92.0</td>\n",
       "      <td>401.0</td>\n",
       "      <td>1.0</td>\n",
       "      <td>2.0</td>\n",
       "      <td>NIHON-KOKI</td>\n",
       "    </tr>\n",
       "    <tr>\n",
       "      <th>14</th>\n",
       "      <td>815</td>\n",
       "      <td>105.0</td>\n",
       "      <td>415.0</td>\n",
       "      <td>1.0</td>\n",
       "      <td>2.0</td>\n",
       "      <td>NIHON-KOKI</td>\n",
       "    </tr>\n",
       "    <tr>\n",
       "      <th>30</th>\n",
       "      <td>831</td>\n",
       "      <td>96.0</td>\n",
       "      <td>406.0</td>\n",
       "      <td>1.0</td>\n",
       "      <td>2.0</td>\n",
       "      <td>NIHON-KOKI</td>\n",
       "    </tr>\n",
       "    <tr>\n",
       "      <th>50</th>\n",
       "      <td>851</td>\n",
       "      <td>108.0</td>\n",
       "      <td>418.0</td>\n",
       "      <td>1.0</td>\n",
       "      <td>2.0</td>\n",
       "      <td>MONTOKUTENNO-JITSUROKU</td>\n",
       "    </tr>\n",
       "    <tr>\n",
       "      <th>52</th>\n",
       "      <td>853</td>\n",
       "      <td>104.0</td>\n",
       "      <td>414.0</td>\n",
       "      <td>1.0</td>\n",
       "      <td>2.0</td>\n",
       "      <td>MONTOKUTENNO-JITSUROKU</td>\n",
       "    </tr>\n",
       "  </tbody>\n",
       "</table>\n",
       "</div>"
      ],
      "text/plain": [
       "     AD  Full-flowering date (DOY)  Full-flowering date  Source code  \\\n",
       "11  812                       92.0                401.0          1.0   \n",
       "14  815                      105.0                415.0          1.0   \n",
       "30  831                       96.0                406.0          1.0   \n",
       "50  851                      108.0                418.0          1.0   \n",
       "52  853                      104.0                414.0          1.0   \n",
       "\n",
       "    Data type code          Reference Name  \n",
       "11             2.0              NIHON-KOKI  \n",
       "14             2.0              NIHON-KOKI  \n",
       "30             2.0              NIHON-KOKI  \n",
       "50             2.0  MONTOKUTENNO-JITSUROKU  \n",
       "52             2.0  MONTOKUTENNO-JITSUROKU  "
      ]
     },
     "execution_count": 10,
     "metadata": {},
     "output_type": "execute_result"
    }
   ],
   "source": [
    "df.head()"
   ]
  },
  {
   "cell_type": "markdown",
   "metadata": {},
   "source": [
    "## Make a histogram of the full-flowering date."
   ]
  },
  {
   "cell_type": "code",
   "execution_count": 11,
   "metadata": {},
   "outputs": [
    {
     "data": {
      "text/plain": [
       "<matplotlib.axes._subplots.AxesSubplot at 0x109f26080>"
      ]
     },
     "execution_count": 11,
     "metadata": {},
     "output_type": "execute_result"
    },
    {
     "data": {
      "image/png": "[encoded data removed]",
      "text/plain": [
       "<matplotlib.figure.Figure at 0x107059b70>"
      ]
     },
     "metadata": {},
     "output_type": "display_data"
    }
   ],
   "source": [
    "%matplotlib inline\n",
    "df[\"Full-flowering date (DOY)\"].hist()"
   ]
  },
  {
   "cell_type": "code",
   "execution_count": null,
   "metadata": {
    "collapsed": true
   },
   "outputs": [],
   "source": []
  },
  {
   "cell_type": "markdown",
   "metadata": {},
   "source": [
    "## Make another histogram of the full-flowering date, but with 39 bins instead of 10"
   ]
  },
  {
   "cell_type": "code",
   "execution_count": 12,
   "metadata": {},
   "outputs": [
    {
     "data": {
      "text/plain": [
       "<matplotlib.axes._subplots.AxesSubplot at 0x10a05b6a0>"
      ]
     },
     "execution_count": 12,
     "metadata": {},
     "output_type": "execute_result"
    },
    {
     "data": {
      "image/png": "[encoded data removed]",
      "text/plain": [
       "<matplotlib.figure.Figure at 0x109f9bda0>"
      ]
     },
     "metadata": {},
     "output_type": "display_data"
    }
   ],
   "source": [
    "df['Full-flowering date (DOY)'].hist(bins=39)"
   ]
  },
  {
   "cell_type": "markdown",
   "metadata": {},
   "source": [
    "## What's the average number of days it takes for the flowers to blossom? The max? Min? And how many records do we have?\n",
    "\n",
    "Answer these with one line of code."
   ]
  },
  {
   "cell_type": "code",
   "execution_count": 13,
   "metadata": {},
   "outputs": [
    {
     "data": {
      "text/plain": [
       "mean     104.556364\n",
       "max      124.000000\n",
       "min       86.000000\n",
       "count    825.000000\n",
       "Name: Full-flowering date (DOY), dtype: float64"
      ]
     },
     "execution_count": 13,
     "metadata": {},
     "output_type": "execute_result"
    }
   ],
   "source": [
    "df[\"Full-flowering date (DOY)\"].agg([\"mean\", \"max\", \"min\", \"count\"])"
   ]
  },
  {
   "cell_type": "markdown",
   "metadata": {},
   "source": [
    "## What's the average number of days into the year cherry flowers normally blossomed before 1900?"
   ]
  },
  {
   "cell_type": "code",
   "execution_count": 14,
   "metadata": {},
   "outputs": [
    {
     "data": {
      "text/plain": [
       "105.22752808988764"
      ]
     },
     "execution_count": 14,
     "metadata": {},
     "output_type": "execute_result"
    }
   ],
   "source": [
    "df.head()\n",
    "df_pre_1900 = df[df[\"AD\"] < 1900]\n",
    "df_pre_1900[\"Full-flowering date (DOY)\"].mean()"
   ]
  },
  {
   "cell_type": "markdown",
   "metadata": {},
   "source": [
    "## How about after 1900?"
   ]
  },
  {
   "cell_type": "code",
   "execution_count": 15,
   "metadata": {},
   "outputs": [
    {
     "data": {
      "text/plain": [
       "100.3125"
      ]
     },
     "execution_count": 15,
     "metadata": {},
     "output_type": "execute_result"
    }
   ],
   "source": [
    "df_post_1900 = df[df[\"AD\"] > 1900]\n",
    "df_post_1900[\"Full-flowering date (DOY)\"].mean()"
   ]
  },
  {
   "cell_type": "markdown",
   "metadata": {},
   "source": [
    "## How many times was our data from a title in Japanese poetry?\n",
    "\n",
    "You'll need to read the documentation inside of the Excel file."
   ]
  },
  {
   "cell_type": "code",
   "execution_count": 16,
   "metadata": {},
   "outputs": [
    {
     "data": {
      "text/plain": [
       "2.0    452\n",
       "1.0    166\n",
       "0.0    124\n",
       "4.0     39\n",
       "3.0     30\n",
       "8.0     11\n",
       "9.0      3\n",
       "Name: Data type code, dtype: int64"
      ]
     },
     "execution_count": 16,
     "metadata": {},
     "output_type": "execute_result"
    }
   ],
   "source": [
    "df[\"Data type code\"].value_counts()\n",
    "### 39 are from Japanese poetry"
   ]
  },
  {
   "cell_type": "markdown",
   "metadata": {},
   "source": [
    "## Actually, that looks terrible. Replace the \"Source code\" and \"data type code\" columns with the values they stand for."
   ]
  },
  {
   "cell_type": "code",
   "execution_count": 17,
   "metadata": {
    "collapsed": true
   },
   "outputs": [],
   "source": [
    "df[\"Data type code\"].replace({\n",
    "    0: \"Modern Times\", \n",
    "    1:\"diary description about full-bloom\",\n",
    "    2: \"diary description about cherry blossom viewing party\",\n",
    "    3: \"cherry twigs from party participants\", \n",
    "    4: \"title in Japanese poety\", \n",
    "    8: \"Aono and Saito\", \n",
    "    9: \"Japanese kerria phenology\"}, inplace = True)\n",
    "\n",
    "\n",
    "\n",
    "\n",
    "\n"
   ]
  },
  {
   "cell_type": "code",
   "execution_count": 18,
   "metadata": {},
   "outputs": [
    {
     "data": {
      "text/html": [
       "<div>\n",
       "<style>\n",
       "    .dataframe thead tr:only-child th {\n",
       "        text-align: right;\n",
       "    }\n",
       "\n",
       "    .dataframe thead th {\n",
       "        text-align: left;\n",
       "    }\n",
       "\n",
       "    .dataframe tbody tr th {\n",
       "        vertical-align: top;\n",
       "    }\n",
       "</style>\n",
       "<table border=\"1\" class=\"dataframe\">\n",
       "  <thead>\n",
       "    <tr style=\"text-align: right;\">\n",
       "      <th></th>\n",
       "      <th>AD</th>\n",
       "      <th>Full-flowering date (DOY)</th>\n",
       "      <th>Full-flowering date</th>\n",
       "      <th>Source code</th>\n",
       "      <th>Data type code</th>\n",
       "      <th>Reference Name</th>\n",
       "    </tr>\n",
       "  </thead>\n",
       "  <tbody>\n",
       "    <tr>\n",
       "      <th>11</th>\n",
       "      <td>812</td>\n",
       "      <td>92.0</td>\n",
       "      <td>401.0</td>\n",
       "      <td>1.0</td>\n",
       "      <td>diary description about cherry blossom viewing...</td>\n",
       "      <td>NIHON-KOKI</td>\n",
       "    </tr>\n",
       "    <tr>\n",
       "      <th>14</th>\n",
       "      <td>815</td>\n",
       "      <td>105.0</td>\n",
       "      <td>415.0</td>\n",
       "      <td>1.0</td>\n",
       "      <td>diary description about cherry blossom viewing...</td>\n",
       "      <td>NIHON-KOKI</td>\n",
       "    </tr>\n",
       "    <tr>\n",
       "      <th>30</th>\n",
       "      <td>831</td>\n",
       "      <td>96.0</td>\n",
       "      <td>406.0</td>\n",
       "      <td>1.0</td>\n",
       "      <td>diary description about cherry blossom viewing...</td>\n",
       "      <td>NIHON-KOKI</td>\n",
       "    </tr>\n",
       "    <tr>\n",
       "      <th>50</th>\n",
       "      <td>851</td>\n",
       "      <td>108.0</td>\n",
       "      <td>418.0</td>\n",
       "      <td>1.0</td>\n",
       "      <td>diary description about cherry blossom viewing...</td>\n",
       "      <td>MONTOKUTENNO-JITSUROKU</td>\n",
       "    </tr>\n",
       "    <tr>\n",
       "      <th>52</th>\n",
       "      <td>853</td>\n",
       "      <td>104.0</td>\n",
       "      <td>414.0</td>\n",
       "      <td>1.0</td>\n",
       "      <td>diary description about cherry blossom viewing...</td>\n",
       "      <td>MONTOKUTENNO-JITSUROKU</td>\n",
       "    </tr>\n",
       "  </tbody>\n",
       "</table>\n",
       "</div>"
      ],
      "text/plain": [
       "     AD  Full-flowering date (DOY)  Full-flowering date  Source code  \\\n",
       "11  812                       92.0                401.0          1.0   \n",
       "14  815                      105.0                415.0          1.0   \n",
       "30  831                       96.0                406.0          1.0   \n",
       "50  851                      108.0                418.0          1.0   \n",
       "52  853                      104.0                414.0          1.0   \n",
       "\n",
       "                                       Data type code          Reference Name  \n",
       "11  diary description about cherry blossom viewing...              NIHON-KOKI  \n",
       "14  diary description about cherry blossom viewing...              NIHON-KOKI  \n",
       "30  diary description about cherry blossom viewing...              NIHON-KOKI  \n",
       "50  diary description about cherry blossom viewing...  MONTOKUTENNO-JITSUROKU  \n",
       "52  diary description about cherry blossom viewing...  MONTOKUTENNO-JITSUROKU  "
      ]
     },
     "execution_count": 18,
     "metadata": {},
     "output_type": "execute_result"
    }
   ],
   "source": [
    "df.head()"
   ]
  },
  {
   "cell_type": "code",
   "execution_count": 19,
   "metadata": {
    "collapsed": true
   },
   "outputs": [],
   "source": [
    "df[\"Source code\"].replace({\n",
    "    1: \"Reported by Taguchi (1939), J. Marine Meteorol. Soc. (Umi to Sora), 19, 217-227\", \n",
    "    2: \"Added by Sekiguchi (1969), Tokyo Geography Papers, 13, 175-190\",\n",
    "    3: \"Added by Aono and Omoto (1994), J. Agric. Meteorol., 49, 263-272\",\n",
    "    4: \"Added by Aono and Kazui (2008), Int. J. Climatol., 28, 905-914 (doi: 10.1002/joc.1594)\", \n",
    "    5: \"Cherry phenological data, Added by Aono and Saito (2010), Int. J. Biometeorol., 54, 211-219\", \n",
    "    6: \"Added by Aono (2011), Time Studies, 4, 17-29. (in Japanese with English abstract)\", \n",
    "    7: \"Added by Aono (2012), Chikyu Kankyo, 17, 21-29. (in Japanese)\",\n",
    "    8: \"Found after the last publication of articles\"}, inplace = True)\n"
   ]
  },
  {
   "cell_type": "code",
   "execution_count": 20,
   "metadata": {},
   "outputs": [
    {
     "data": {
      "text/html": [
       "<div>\n",
       "<style>\n",
       "    .dataframe thead tr:only-child th {\n",
       "        text-align: right;\n",
       "    }\n",
       "\n",
       "    .dataframe thead th {\n",
       "        text-align: left;\n",
       "    }\n",
       "\n",
       "    .dataframe tbody tr th {\n",
       "        vertical-align: top;\n",
       "    }\n",
       "</style>\n",
       "<table border=\"1\" class=\"dataframe\">\n",
       "  <thead>\n",
       "    <tr style=\"text-align: right;\">\n",
       "      <th></th>\n",
       "      <th>AD</th>\n",
       "      <th>Full-flowering date (DOY)</th>\n",
       "      <th>Full-flowering date</th>\n",
       "      <th>Source code</th>\n",
       "      <th>Data type code</th>\n",
       "      <th>Reference Name</th>\n",
       "    </tr>\n",
       "  </thead>\n",
       "  <tbody>\n",
       "    <tr>\n",
       "      <th>11</th>\n",
       "      <td>812</td>\n",
       "      <td>92.0</td>\n",
       "      <td>401.0</td>\n",
       "      <td>Reported by Taguchi (1939), J. Marine Meteorol...</td>\n",
       "      <td>diary description about cherry blossom viewing...</td>\n",
       "      <td>NIHON-KOKI</td>\n",
       "    </tr>\n",
       "    <tr>\n",
       "      <th>14</th>\n",
       "      <td>815</td>\n",
       "      <td>105.0</td>\n",
       "      <td>415.0</td>\n",
       "      <td>Reported by Taguchi (1939), J. Marine Meteorol...</td>\n",
       "      <td>diary description about cherry blossom viewing...</td>\n",
       "      <td>NIHON-KOKI</td>\n",
       "    </tr>\n",
       "    <tr>\n",
       "      <th>30</th>\n",
       "      <td>831</td>\n",
       "      <td>96.0</td>\n",
       "      <td>406.0</td>\n",
       "      <td>Reported by Taguchi (1939), J. Marine Meteorol...</td>\n",
       "      <td>diary description about cherry blossom viewing...</td>\n",
       "      <td>NIHON-KOKI</td>\n",
       "    </tr>\n",
       "    <tr>\n",
       "      <th>50</th>\n",
       "      <td>851</td>\n",
       "      <td>108.0</td>\n",
       "      <td>418.0</td>\n",
       "      <td>Reported by Taguchi (1939), J. Marine Meteorol...</td>\n",
       "      <td>diary description about cherry blossom viewing...</td>\n",
       "      <td>MONTOKUTENNO-JITSUROKU</td>\n",
       "    </tr>\n",
       "    <tr>\n",
       "      <th>52</th>\n",
       "      <td>853</td>\n",
       "      <td>104.0</td>\n",
       "      <td>414.0</td>\n",
       "      <td>Reported by Taguchi (1939), J. Marine Meteorol...</td>\n",
       "      <td>diary description about cherry blossom viewing...</td>\n",
       "      <td>MONTOKUTENNO-JITSUROKU</td>\n",
       "    </tr>\n",
       "  </tbody>\n",
       "</table>\n",
       "</div>"
      ],
      "text/plain": [
       "     AD  Full-flowering date (DOY)  Full-flowering date  \\\n",
       "11  812                       92.0                401.0   \n",
       "14  815                      105.0                415.0   \n",
       "30  831                       96.0                406.0   \n",
       "50  851                      108.0                418.0   \n",
       "52  853                      104.0                414.0   \n",
       "\n",
       "                                          Source code  \\\n",
       "11  Reported by Taguchi (1939), J. Marine Meteorol...   \n",
       "14  Reported by Taguchi (1939), J. Marine Meteorol...   \n",
       "30  Reported by Taguchi (1939), J. Marine Meteorol...   \n",
       "50  Reported by Taguchi (1939), J. Marine Meteorol...   \n",
       "52  Reported by Taguchi (1939), J. Marine Meteorol...   \n",
       "\n",
       "                                       Data type code          Reference Name  \n",
       "11  diary description about cherry blossom viewing...              NIHON-KOKI  \n",
       "14  diary description about cherry blossom viewing...              NIHON-KOKI  \n",
       "30  diary description about cherry blossom viewing...              NIHON-KOKI  \n",
       "50  diary description about cherry blossom viewing...  MONTOKUTENNO-JITSUROKU  \n",
       "52  diary description about cherry blossom viewing...  MONTOKUTENNO-JITSUROKU  "
      ]
     },
     "execution_count": 20,
     "metadata": {},
     "output_type": "execute_result"
    }
   ],
   "source": [
    "df.head()"
   ]
  },
  {
   "cell_type": "markdown",
   "metadata": {},
   "source": [
    "## Show only the years where our data was from a title in Japanese poetry"
   ]
  },
  {
   "cell_type": "code",
   "execution_count": 21,
   "metadata": {},
   "outputs": [
    {
     "data": {
      "text/html": [
       "<div>\n",
       "<style>\n",
       "    .dataframe thead tr:only-child th {\n",
       "        text-align: right;\n",
       "    }\n",
       "\n",
       "    .dataframe thead th {\n",
       "        text-align: left;\n",
       "    }\n",
       "\n",
       "    .dataframe tbody tr th {\n",
       "        vertical-align: top;\n",
       "    }\n",
       "</style>\n",
       "<table border=\"1\" class=\"dataframe\">\n",
       "  <thead>\n",
       "    <tr style=\"text-align: right;\">\n",
       "      <th></th>\n",
       "      <th>AD</th>\n",
       "      <th>Full-flowering date (DOY)</th>\n",
       "      <th>Full-flowering date</th>\n",
       "      <th>Source code</th>\n",
       "      <th>Data type code</th>\n",
       "      <th>Reference Name</th>\n",
       "    </tr>\n",
       "  </thead>\n",
       "  <tbody>\n",
       "    <tr>\n",
       "      <th>11</th>\n",
       "      <td>812</td>\n",
       "      <td>92.0</td>\n",
       "      <td>401.0</td>\n",
       "      <td>Reported by Taguchi (1939), J. Marine Meteorol...</td>\n",
       "      <td>diary description about cherry blossom viewing...</td>\n",
       "      <td>NIHON-KOKI</td>\n",
       "    </tr>\n",
       "    <tr>\n",
       "      <th>14</th>\n",
       "      <td>815</td>\n",
       "      <td>105.0</td>\n",
       "      <td>415.0</td>\n",
       "      <td>Reported by Taguchi (1939), J. Marine Meteorol...</td>\n",
       "      <td>diary description about cherry blossom viewing...</td>\n",
       "      <td>NIHON-KOKI</td>\n",
       "    </tr>\n",
       "    <tr>\n",
       "      <th>30</th>\n",
       "      <td>831</td>\n",
       "      <td>96.0</td>\n",
       "      <td>406.0</td>\n",
       "      <td>Reported by Taguchi (1939), J. Marine Meteorol...</td>\n",
       "      <td>diary description about cherry blossom viewing...</td>\n",
       "      <td>NIHON-KOKI</td>\n",
       "    </tr>\n",
       "    <tr>\n",
       "      <th>50</th>\n",
       "      <td>851</td>\n",
       "      <td>108.0</td>\n",
       "      <td>418.0</td>\n",
       "      <td>Reported by Taguchi (1939), J. Marine Meteorol...</td>\n",
       "      <td>diary description about cherry blossom viewing...</td>\n",
       "      <td>MONTOKUTENNO-JITSUROKU</td>\n",
       "    </tr>\n",
       "    <tr>\n",
       "      <th>52</th>\n",
       "      <td>853</td>\n",
       "      <td>104.0</td>\n",
       "      <td>414.0</td>\n",
       "      <td>Reported by Taguchi (1939), J. Marine Meteorol...</td>\n",
       "      <td>diary description about cherry blossom viewing...</td>\n",
       "      <td>MONTOKUTENNO-JITSUROKU</td>\n",
       "    </tr>\n",
       "  </tbody>\n",
       "</table>\n",
       "</div>"
      ],
      "text/plain": [
       "     AD  Full-flowering date (DOY)  Full-flowering date  \\\n",
       "11  812                       92.0                401.0   \n",
       "14  815                      105.0                415.0   \n",
       "30  831                       96.0                406.0   \n",
       "50  851                      108.0                418.0   \n",
       "52  853                      104.0                414.0   \n",
       "\n",
       "                                          Source code  \\\n",
       "11  Reported by Taguchi (1939), J. Marine Meteorol...   \n",
       "14  Reported by Taguchi (1939), J. Marine Meteorol...   \n",
       "30  Reported by Taguchi (1939), J. Marine Meteorol...   \n",
       "50  Reported by Taguchi (1939), J. Marine Meteorol...   \n",
       "52  Reported by Taguchi (1939), J. Marine Meteorol...   \n",
       "\n",
       "                                       Data type code          Reference Name  \n",
       "11  diary description about cherry blossom viewing...              NIHON-KOKI  \n",
       "14  diary description about cherry blossom viewing...              NIHON-KOKI  \n",
       "30  diary description about cherry blossom viewing...              NIHON-KOKI  \n",
       "50  diary description about cherry blossom viewing...  MONTOKUTENNO-JITSUROKU  \n",
       "52  diary description about cherry blossom viewing...  MONTOKUTENNO-JITSUROKU  "
      ]
     },
     "execution_count": 21,
     "metadata": {},
     "output_type": "execute_result"
    }
   ],
   "source": [
    "df.head()"
   ]
  },
  {
   "cell_type": "markdown",
   "metadata": {},
   "source": [
    "## Graph the full-flowering date (DOY) over time"
   ]
  },
  {
   "cell_type": "code",
   "execution_count": 25,
   "metadata": {},
   "outputs": [
    {
     "data": {
      "text/plain": [
       "<matplotlib.axes._subplots.AxesSubplot at 0x10a4370b8>"
      ]
     },
     "execution_count": 25,
     "metadata": {},
     "output_type": "execute_result"
    },
    {
     "data": {
      "image/png": "[encoded data removed]",
      "text/plain": [
       "<matplotlib.figure.Figure at 0x10a444860>"
      ]
     },
     "metadata": {},
     "output_type": "display_data"
    }
   ],
   "source": [
    "df.plot(x = \"AD\", y = \"Full-flowering date (DOY)\", kind = \"line\", color = \"pink\")"
   ]
  },
  {
   "cell_type": "markdown",
   "metadata": {},
   "source": [
    "## 15. Smooth out the graph\n",
    "\n",
    "It's so jagged! You can use `df.rolling` to calculate a rolling average.\n",
    "\n",
    "The following code calculates a **10-year mean**, using the `AD` column as the anchor. If there aren't 20 samples to work with in a row, it'll accept down to 5. Neat, right?\n",
    "\n",
    "(We're only looking at the final 5)"
   ]
  },
  {
   "cell_type": "code",
   "execution_count": 26,
   "metadata": {},
   "outputs": [
    {
     "data": {
      "text/html": [
       "<div>\n",
       "<style>\n",
       "    .dataframe thead tr:only-child th {\n",
       "        text-align: right;\n",
       "    }\n",
       "\n",
       "    .dataframe thead th {\n",
       "        text-align: left;\n",
       "    }\n",
       "\n",
       "    .dataframe tbody tr th {\n",
       "        vertical-align: top;\n",
       "    }\n",
       "</style>\n",
       "<table border=\"1\" class=\"dataframe\">\n",
       "  <thead>\n",
       "    <tr style=\"text-align: right;\">\n",
       "      <th></th>\n",
       "      <th>AD</th>\n",
       "      <th>Full-flowering date (DOY)</th>\n",
       "      <th>Full-flowering date</th>\n",
       "      <th>Source code</th>\n",
       "      <th>Data type code</th>\n",
       "      <th>Reference Name</th>\n",
       "    </tr>\n",
       "  </thead>\n",
       "  <tbody>\n",
       "    <tr>\n",
       "      <th>1210</th>\n",
       "      <td>2011</td>\n",
       "      <td>95.9</td>\n",
       "      <td>405.7</td>\n",
       "      <td>Found after the last publication of articles</td>\n",
       "      <td>Modern Times</td>\n",
       "      <td>NEWS-PAPER(ARASHIYAMA)</td>\n",
       "    </tr>\n",
       "    <tr>\n",
       "      <th>1211</th>\n",
       "      <td>2012</td>\n",
       "      <td>96.9</td>\n",
       "      <td>406.6</td>\n",
       "      <td>Found after the last publication of articles</td>\n",
       "      <td>Modern Times</td>\n",
       "      <td>NEWS-PAPER(ARASHIYAMA)</td>\n",
       "    </tr>\n",
       "    <tr>\n",
       "      <th>1212</th>\n",
       "      <td>2013</td>\n",
       "      <td>96.4</td>\n",
       "      <td>406.1</td>\n",
       "      <td>Found after the last publication of articles</td>\n",
       "      <td>Modern Times</td>\n",
       "      <td>NEWS-PAPER(ARASHIYAMA)</td>\n",
       "    </tr>\n",
       "    <tr>\n",
       "      <th>1213</th>\n",
       "      <td>2014</td>\n",
       "      <td>96.6</td>\n",
       "      <td>406.4</td>\n",
       "      <td>Found after the last publication of articles</td>\n",
       "      <td>Modern Times</td>\n",
       "      <td>NEWS-PAPER(ARASHIYAMA)</td>\n",
       "    </tr>\n",
       "    <tr>\n",
       "      <th>1214</th>\n",
       "      <td>2015</td>\n",
       "      <td>96.0</td>\n",
       "      <td>405.8</td>\n",
       "      <td>Found after the last publication of articles</td>\n",
       "      <td>Modern Times</td>\n",
       "      <td>NEWS-PAPER(ARASHIYAMA)</td>\n",
       "    </tr>\n",
       "  </tbody>\n",
       "</table>\n",
       "</div>"
      ],
      "text/plain": [
       "        AD  Full-flowering date (DOY)  Full-flowering date  \\\n",
       "1210  2011                       95.9                405.7   \n",
       "1211  2012                       96.9                406.6   \n",
       "1212  2013                       96.4                406.1   \n",
       "1213  2014                       96.6                406.4   \n",
       "1214  2015                       96.0                405.8   \n",
       "\n",
       "                                       Source code Data type code  \\\n",
       "1210  Found after the last publication of articles   Modern Times   \n",
       "1211  Found after the last publication of articles   Modern Times   \n",
       "1212  Found after the last publication of articles   Modern Times   \n",
       "1213  Found after the last publication of articles   Modern Times   \n",
       "1214  Found after the last publication of articles   Modern Times   \n",
       "\n",
       "              Reference Name  \n",
       "1210  NEWS-PAPER(ARASHIYAMA)  \n",
       "1211  NEWS-PAPER(ARASHIYAMA)  \n",
       "1212  NEWS-PAPER(ARASHIYAMA)  \n",
       "1213  NEWS-PAPER(ARASHIYAMA)  \n",
       "1214  NEWS-PAPER(ARASHIYAMA)  "
      ]
     },
     "execution_count": 26,
     "metadata": {},
     "output_type": "execute_result"
    }
   ],
   "source": [
    "df.rolling(10, on='AD', min_periods=5).mean().tail()\n",
    "# If this gives you an error you're using an old pandas version,\n",
    "# so you can use df.set_index('AD').rolling(10, min_periods=5).mean().reset_index().tail()\n",
    "# instead"
   ]
  },
  {
   "cell_type": "markdown",
   "metadata": {},
   "source": [
    "Adjust the code above to compute **and graph** a 20-year rolling average for the entire dataset."
   ]
  },
  {
   "cell_type": "code",
   "execution_count": 27,
   "metadata": {},
   "outputs": [
    {
     "data": {
      "text/plain": [
       "<matplotlib.axes._subplots.AxesSubplot at 0x10a69ee48>"
      ]
     },
     "execution_count": 27,
     "metadata": {},
     "output_type": "execute_result"
    },
    {
     "data": {
      "image/png": "[encoded data removed]",
      "text/plain": [
       "<matplotlib.figure.Figure at 0x10a734278>"
      ]
     },
     "metadata": {},
     "output_type": "display_data"
    }
   ],
   "source": [
    "df.rolling(20, on='AD', min_periods=5).mean().plot(x = \"AD\", y = \"Full-flowering date (DOY)\", kind = \"line\", color = \"pink\")\n"
   ]
  },
  {
   "cell_type": "markdown",
   "metadata": {},
   "source": [
    "# Adding a month column\n",
    "\n",
    "### HOLD ON, time to learn something\n",
    "\n",
    "**There are a few ways to do the next question**, but a couple popular methods will have pandas yell at you. You might want to try this new thing called `loc`! **It is used to update a column in a row based on a condition.**\n",
    "\n",
    "```\n",
    "df.loc[df.country == 'Angola', \"continent\"] = \"Africa\"\n",
    "```\n",
    "\n",
    "This updates the `continent` column to be `Africa` for every row where `df.country == 'Angola'`. You CANNOT do the following, which is probably what you've wanted to do:\n",
    "\n",
    "```\n",
    "df[df.country == 'Angola']['continent'] = 'Africa'\n",
    "```\n",
    "\n",
    "And now you know.\n",
    "\n",
    "### Actually adding our column\n",
    "\n",
    "Right now the \"Full-flowering date\" column is pretty rough. It uses numbers like '402' to mean \"April 2nd\" and \"416\" to mean \"April 16th.\" Let's make a column to explain what month it happened in.\n",
    "\n",
    "* Every row that happened in April should have 'April' in the `month` column.\n",
    "* Every row that happened in March should have 'March' as the `month` column.\n",
    "* Every row that happened in May should have 'May' as the `month` column."
   ]
  },
  {
   "cell_type": "code",
   "execution_count": 62,
   "metadata": {},
   "outputs": [],
   "source": [
    "import re\n",
    "\n",
    "df.loc[df[\"Full-flowering date\"].astype(str).str.contains(r\"^[3]\"), \"Month\"] = \"March\"\n",
    "df.loc[df[\"Full-flowering date\"].astype(str).str.contains(r\"^[4]\"), \"Month\"] = \"April\"\n",
    "df.loc[df[\"Full-flowering date\"].astype(str).str.contains(r\"^[5]\"), \"Month\"] = \"May\"\n"
   ]
  },
  {
   "cell_type": "code",
   "execution_count": 66,
   "metadata": {},
   "outputs": [
    {
     "data": {
      "text/html": [
       "<div>\n",
       "<style>\n",
       "    .dataframe thead tr:only-child th {\n",
       "        text-align: right;\n",
       "    }\n",
       "\n",
       "    .dataframe thead th {\n",
       "        text-align: left;\n",
       "    }\n",
       "\n",
       "    .dataframe tbody tr th {\n",
       "        vertical-align: top;\n",
       "    }\n",
       "</style>\n",
       "<table border=\"1\" class=\"dataframe\">\n",
       "  <thead>\n",
       "    <tr style=\"text-align: right;\">\n",
       "      <th></th>\n",
       "      <th>AD</th>\n",
       "      <th>Full-flowering date (DOY)</th>\n",
       "      <th>Full-flowering date</th>\n",
       "      <th>Source code</th>\n",
       "      <th>Data type code</th>\n",
       "      <th>Reference Name</th>\n",
       "      <th>Month</th>\n",
       "    </tr>\n",
       "  </thead>\n",
       "  <tbody>\n",
       "    <tr>\n",
       "      <th>11</th>\n",
       "      <td>812</td>\n",
       "      <td>92.0</td>\n",
       "      <td>401.0</td>\n",
       "      <td>Reported by Taguchi (1939), J. Marine Meteorol...</td>\n",
       "      <td>diary description about cherry blossom viewing...</td>\n",
       "      <td>NIHON-KOKI</td>\n",
       "      <td>April</td>\n",
       "    </tr>\n",
       "    <tr>\n",
       "      <th>14</th>\n",
       "      <td>815</td>\n",
       "      <td>105.0</td>\n",
       "      <td>415.0</td>\n",
       "      <td>Reported by Taguchi (1939), J. Marine Meteorol...</td>\n",
       "      <td>diary description about cherry blossom viewing...</td>\n",
       "      <td>NIHON-KOKI</td>\n",
       "      <td>April</td>\n",
       "    </tr>\n",
       "    <tr>\n",
       "      <th>30</th>\n",
       "      <td>831</td>\n",
       "      <td>96.0</td>\n",
       "      <td>406.0</td>\n",
       "      <td>Reported by Taguchi (1939), J. Marine Meteorol...</td>\n",
       "      <td>diary description about cherry blossom viewing...</td>\n",
       "      <td>NIHON-KOKI</td>\n",
       "      <td>April</td>\n",
       "    </tr>\n",
       "    <tr>\n",
       "      <th>50</th>\n",
       "      <td>851</td>\n",
       "      <td>108.0</td>\n",
       "      <td>418.0</td>\n",
       "      <td>Reported by Taguchi (1939), J. Marine Meteorol...</td>\n",
       "      <td>diary description about cherry blossom viewing...</td>\n",
       "      <td>MONTOKUTENNO-JITSUROKU</td>\n",
       "      <td>April</td>\n",
       "    </tr>\n",
       "    <tr>\n",
       "      <th>52</th>\n",
       "      <td>853</td>\n",
       "      <td>104.0</td>\n",
       "      <td>414.0</td>\n",
       "      <td>Reported by Taguchi (1939), J. Marine Meteorol...</td>\n",
       "      <td>diary description about cherry blossom viewing...</td>\n",
       "      <td>MONTOKUTENNO-JITSUROKU</td>\n",
       "      <td>April</td>\n",
       "    </tr>\n",
       "  </tbody>\n",
       "</table>\n",
       "</div>"
      ],
      "text/plain": [
       "     AD  Full-flowering date (DOY)  Full-flowering date  \\\n",
       "11  812                       92.0                401.0   \n",
       "14  815                      105.0                415.0   \n",
       "30  831                       96.0                406.0   \n",
       "50  851                      108.0                418.0   \n",
       "52  853                      104.0                414.0   \n",
       "\n",
       "                                          Source code  \\\n",
       "11  Reported by Taguchi (1939), J. Marine Meteorol...   \n",
       "14  Reported by Taguchi (1939), J. Marine Meteorol...   \n",
       "30  Reported by Taguchi (1939), J. Marine Meteorol...   \n",
       "50  Reported by Taguchi (1939), J. Marine Meteorol...   \n",
       "52  Reported by Taguchi (1939), J. Marine Meteorol...   \n",
       "\n",
       "                                       Data type code          Reference Name  \\\n",
       "11  diary description about cherry blossom viewing...              NIHON-KOKI   \n",
       "14  diary description about cherry blossom viewing...              NIHON-KOKI   \n",
       "30  diary description about cherry blossom viewing...              NIHON-KOKI   \n",
       "50  diary description about cherry blossom viewing...  MONTOKUTENNO-JITSUROKU   \n",
       "52  diary description about cherry blossom viewing...  MONTOKUTENNO-JITSUROKU   \n",
       "\n",
       "    Month  \n",
       "11  April  \n",
       "14  April  \n",
       "30  April  \n",
       "50  April  \n",
       "52  April  "
      ]
     },
     "execution_count": 66,
     "metadata": {},
     "output_type": "execute_result"
    }
   ],
   "source": [
    "df.head()"
   ]
  },
  {
   "cell_type": "markdown",
   "metadata": {},
   "source": [
    "### Using your new column, how many blossomings happened in each month?"
   ]
  },
  {
   "cell_type": "code",
   "execution_count": 67,
   "metadata": {},
   "outputs": [
    {
     "data": {
      "text/plain": [
       "April    813\n",
       "March      9\n",
       "May        3\n",
       "Name: Month, dtype: int64"
      ]
     },
     "execution_count": 67,
     "metadata": {},
     "output_type": "execute_result"
    }
   ],
   "source": [
    "df[\"Month\"].value_counts()"
   ]
  },
  {
   "cell_type": "markdown",
   "metadata": {},
   "source": [
    "### Graph how many blossomings happened in each month."
   ]
  },
  {
   "cell_type": "code",
   "execution_count": 69,
   "metadata": {},
   "outputs": [
    {
     "data": {
      "image/png": "[encoded data removed]",
      "text/plain": [
       "<matplotlib.figure.Figure at 0x10ab89518>"
      ]
     },
     "metadata": {},
     "output_type": "display_data"
    }
   ],
   "source": [
    "df[\"Month\"].value_counts().plot(kind=\"barh\").invert_yaxis()"
   ]
  },
  {
   "cell_type": "markdown",
   "metadata": {},
   "source": [
    "## 19. Adding a day-of-month column\n",
    "\n",
    "Now we're going to add a new column called **day-of-month** based on the full-flowering date.\n",
    "\n",
    "- 402 means \"April 2\"\n",
    "- 312 means \"March 12\"\n",
    "- 511 means \"May 11\"\n",
    "\n",
    "**We're only interested in the second part**. Previously I've had students convert them to integers to do this, but you know regular expressions!\n",
    "\n",
    "- Tip: You won't be able to extract anything from a float, you'll need it to be a string\n",
    "- Tip: There are two things that mean \"talk about this column as a string,\" maybe you want me to talk about them?"
   ]
  },
  {
   "cell_type": "code",
   "execution_count": 71,
   "metadata": {},
   "outputs": [
    {
     "name": "stderr",
     "output_type": "stream",
     "text": [
      "/usr/local/lib/python3.6/site-packages/ipykernel_launcher.py:1: FutureWarning: currently extract(expand=None) means expand=False (return Index/Series/DataFrame) but in a future version of pandas this will be changed to expand=True (return DataFrame)\n",
      "  \"\"\"Entry point for launching an IPython kernel.\n"
     ]
    }
   ],
   "source": [
    "df[\"days-of-month\"] = df[\"Full-flowering date\"].astype(str).str.extract(r\"\\d(\\d\\d)\")\n"
   ]
  },
  {
   "cell_type": "code",
   "execution_count": 72,
   "metadata": {},
   "outputs": [
    {
     "data": {
      "text/html": [
       "<div>\n",
       "<style>\n",
       "    .dataframe thead tr:only-child th {\n",
       "        text-align: right;\n",
       "    }\n",
       "\n",
       "    .dataframe thead th {\n",
       "        text-align: left;\n",
       "    }\n",
       "\n",
       "    .dataframe tbody tr th {\n",
       "        vertical-align: top;\n",
       "    }\n",
       "</style>\n",
       "<table border=\"1\" class=\"dataframe\">\n",
       "  <thead>\n",
       "    <tr style=\"text-align: right;\">\n",
       "      <th></th>\n",
       "      <th>AD</th>\n",
       "      <th>Full-flowering date (DOY)</th>\n",
       "      <th>Full-flowering date</th>\n",
       "      <th>Source code</th>\n",
       "      <th>Data type code</th>\n",
       "      <th>Reference Name</th>\n",
       "      <th>Month</th>\n",
       "      <th>days-of-month</th>\n",
       "    </tr>\n",
       "  </thead>\n",
       "  <tbody>\n",
       "    <tr>\n",
       "      <th>11</th>\n",
       "      <td>812</td>\n",
       "      <td>92.0</td>\n",
       "      <td>401.0</td>\n",
       "      <td>Reported by Taguchi (1939), J. Marine Meteorol...</td>\n",
       "      <td>diary description about cherry blossom viewing...</td>\n",
       "      <td>NIHON-KOKI</td>\n",
       "      <td>April</td>\n",
       "      <td>01</td>\n",
       "    </tr>\n",
       "    <tr>\n",
       "      <th>14</th>\n",
       "      <td>815</td>\n",
       "      <td>105.0</td>\n",
       "      <td>415.0</td>\n",
       "      <td>Reported by Taguchi (1939), J. Marine Meteorol...</td>\n",
       "      <td>diary description about cherry blossom viewing...</td>\n",
       "      <td>NIHON-KOKI</td>\n",
       "      <td>April</td>\n",
       "      <td>15</td>\n",
       "    </tr>\n",
       "    <tr>\n",
       "      <th>30</th>\n",
       "      <td>831</td>\n",
       "      <td>96.0</td>\n",
       "      <td>406.0</td>\n",
       "      <td>Reported by Taguchi (1939), J. Marine Meteorol...</td>\n",
       "      <td>diary description about cherry blossom viewing...</td>\n",
       "      <td>NIHON-KOKI</td>\n",
       "      <td>April</td>\n",
       "      <td>06</td>\n",
       "    </tr>\n",
       "    <tr>\n",
       "      <th>50</th>\n",
       "      <td>851</td>\n",
       "      <td>108.0</td>\n",
       "      <td>418.0</td>\n",
       "      <td>Reported by Taguchi (1939), J. Marine Meteorol...</td>\n",
       "      <td>diary description about cherry blossom viewing...</td>\n",
       "      <td>MONTOKUTENNO-JITSUROKU</td>\n",
       "      <td>April</td>\n",
       "      <td>18</td>\n",
       "    </tr>\n",
       "    <tr>\n",
       "      <th>52</th>\n",
       "      <td>853</td>\n",
       "      <td>104.0</td>\n",
       "      <td>414.0</td>\n",
       "      <td>Reported by Taguchi (1939), J. Marine Meteorol...</td>\n",
       "      <td>diary description about cherry blossom viewing...</td>\n",
       "      <td>MONTOKUTENNO-JITSUROKU</td>\n",
       "      <td>April</td>\n",
       "      <td>14</td>\n",
       "    </tr>\n",
       "  </tbody>\n",
       "</table>\n",
       "</div>"
      ],
      "text/plain": [
       "     AD  Full-flowering date (DOY)  Full-flowering date  \\\n",
       "11  812                       92.0                401.0   \n",
       "14  815                      105.0                415.0   \n",
       "30  831                       96.0                406.0   \n",
       "50  851                      108.0                418.0   \n",
       "52  853                      104.0                414.0   \n",
       "\n",
       "                                          Source code  \\\n",
       "11  Reported by Taguchi (1939), J. Marine Meteorol...   \n",
       "14  Reported by Taguchi (1939), J. Marine Meteorol...   \n",
       "30  Reported by Taguchi (1939), J. Marine Meteorol...   \n",
       "50  Reported by Taguchi (1939), J. Marine Meteorol...   \n",
       "52  Reported by Taguchi (1939), J. Marine Meteorol...   \n",
       "\n",
       "                                       Data type code          Reference Name  \\\n",
       "11  diary description about cherry blossom viewing...              NIHON-KOKI   \n",
       "14  diary description about cherry blossom viewing...              NIHON-KOKI   \n",
       "30  diary description about cherry blossom viewing...              NIHON-KOKI   \n",
       "50  diary description about cherry blossom viewing...  MONTOKUTENNO-JITSUROKU   \n",
       "52  diary description about cherry blossom viewing...  MONTOKUTENNO-JITSUROKU   \n",
       "\n",
       "    Month days-of-month  \n",
       "11  April            01  \n",
       "14  April            15  \n",
       "30  April            06  \n",
       "50  April            18  \n",
       "52  April            14  "
      ]
     },
     "execution_count": 72,
     "metadata": {},
     "output_type": "execute_result"
    }
   ],
   "source": [
    "df.head()"
   ]
  },
  {
   "cell_type": "markdown",
   "metadata": {},
   "source": [
    "Now that you've successfully extracted the last two letters, save them into a new column called `'day-of-month'`"
   ]
  },
  {
   "cell_type": "markdown",
   "metadata": {},
   "source": [
    "### 20. Adding a date column\n",
    "\n",
    "Now take the `'month'` and `'day-of-month'` columns and combine them in order to create a new column called `'date'`. If should look like \"April 09\"."
   ]
  },
  {
   "cell_type": "code",
   "execution_count": 75,
   "metadata": {
    "collapsed": true
   },
   "outputs": [],
   "source": [
    "df[\"date\"] = df[\"Month\"] + \" \" + df[\"days-of-month\"]"
   ]
  },
  {
   "cell_type": "code",
   "execution_count": 76,
   "metadata": {},
   "outputs": [
    {
     "data": {
      "text/html": [
       "<div>\n",
       "<style>\n",
       "    .dataframe thead tr:only-child th {\n",
       "        text-align: right;\n",
       "    }\n",
       "\n",
       "    .dataframe thead th {\n",
       "        text-align: left;\n",
       "    }\n",
       "\n",
       "    .dataframe tbody tr th {\n",
       "        vertical-align: top;\n",
       "    }\n",
       "</style>\n",
       "<table border=\"1\" class=\"dataframe\">\n",
       "  <thead>\n",
       "    <tr style=\"text-align: right;\">\n",
       "      <th></th>\n",
       "      <th>AD</th>\n",
       "      <th>Full-flowering date (DOY)</th>\n",
       "      <th>Full-flowering date</th>\n",
       "      <th>Source code</th>\n",
       "      <th>Data type code</th>\n",
       "      <th>Reference Name</th>\n",
       "      <th>Month</th>\n",
       "      <th>days-of-month</th>\n",
       "      <th>date</th>\n",
       "    </tr>\n",
       "  </thead>\n",
       "  <tbody>\n",
       "    <tr>\n",
       "      <th>11</th>\n",
       "      <td>812</td>\n",
       "      <td>92.0</td>\n",
       "      <td>401.0</td>\n",
       "      <td>Reported by Taguchi (1939), J. Marine Meteorol...</td>\n",
       "      <td>diary description about cherry blossom viewing...</td>\n",
       "      <td>NIHON-KOKI</td>\n",
       "      <td>April</td>\n",
       "      <td>01</td>\n",
       "      <td>April 01</td>\n",
       "    </tr>\n",
       "    <tr>\n",
       "      <th>14</th>\n",
       "      <td>815</td>\n",
       "      <td>105.0</td>\n",
       "      <td>415.0</td>\n",
       "      <td>Reported by Taguchi (1939), J. Marine Meteorol...</td>\n",
       "      <td>diary description about cherry blossom viewing...</td>\n",
       "      <td>NIHON-KOKI</td>\n",
       "      <td>April</td>\n",
       "      <td>15</td>\n",
       "      <td>April 15</td>\n",
       "    </tr>\n",
       "    <tr>\n",
       "      <th>30</th>\n",
       "      <td>831</td>\n",
       "      <td>96.0</td>\n",
       "      <td>406.0</td>\n",
       "      <td>Reported by Taguchi (1939), J. Marine Meteorol...</td>\n",
       "      <td>diary description about cherry blossom viewing...</td>\n",
       "      <td>NIHON-KOKI</td>\n",
       "      <td>April</td>\n",
       "      <td>06</td>\n",
       "      <td>April 06</td>\n",
       "    </tr>\n",
       "    <tr>\n",
       "      <th>50</th>\n",
       "      <td>851</td>\n",
       "      <td>108.0</td>\n",
       "      <td>418.0</td>\n",
       "      <td>Reported by Taguchi (1939), J. Marine Meteorol...</td>\n",
       "      <td>diary description about cherry blossom viewing...</td>\n",
       "      <td>MONTOKUTENNO-JITSUROKU</td>\n",
       "      <td>April</td>\n",
       "      <td>18</td>\n",
       "      <td>April 18</td>\n",
       "    </tr>\n",
       "    <tr>\n",
       "      <th>52</th>\n",
       "      <td>853</td>\n",
       "      <td>104.0</td>\n",
       "      <td>414.0</td>\n",
       "      <td>Reported by Taguchi (1939), J. Marine Meteorol...</td>\n",
       "      <td>diary description about cherry blossom viewing...</td>\n",
       "      <td>MONTOKUTENNO-JITSUROKU</td>\n",
       "      <td>April</td>\n",
       "      <td>14</td>\n",
       "      <td>April 14</td>\n",
       "    </tr>\n",
       "  </tbody>\n",
       "</table>\n",
       "</div>"
      ],
      "text/plain": [
       "     AD  Full-flowering date (DOY)  Full-flowering date  \\\n",
       "11  812                       92.0                401.0   \n",
       "14  815                      105.0                415.0   \n",
       "30  831                       96.0                406.0   \n",
       "50  851                      108.0                418.0   \n",
       "52  853                      104.0                414.0   \n",
       "\n",
       "                                          Source code  \\\n",
       "11  Reported by Taguchi (1939), J. Marine Meteorol...   \n",
       "14  Reported by Taguchi (1939), J. Marine Meteorol...   \n",
       "30  Reported by Taguchi (1939), J. Marine Meteorol...   \n",
       "50  Reported by Taguchi (1939), J. Marine Meteorol...   \n",
       "52  Reported by Taguchi (1939), J. Marine Meteorol...   \n",
       "\n",
       "                                       Data type code          Reference Name  \\\n",
       "11  diary description about cherry blossom viewing...              NIHON-KOKI   \n",
       "14  diary description about cherry blossom viewing...              NIHON-KOKI   \n",
       "30  diary description about cherry blossom viewing...              NIHON-KOKI   \n",
       "50  diary description about cherry blossom viewing...  MONTOKUTENNO-JITSUROKU   \n",
       "52  diary description about cherry blossom viewing...  MONTOKUTENNO-JITSUROKU   \n",
       "\n",
       "    Month days-of-month      date  \n",
       "11  April            01  April 01  \n",
       "14  April            15  April 15  \n",
       "30  April            06  April 06  \n",
       "50  April            18  April 18  \n",
       "52  April            14  April 14  "
      ]
     },
     "execution_count": 76,
     "metadata": {},
     "output_type": "execute_result"
    }
   ],
   "source": [
    "df.head()"
   ]
  },
  {
   "cell_type": "code",
   "execution_count": null,
   "metadata": {
    "collapsed": true
   },
   "outputs": [],
   "source": []
  }
 ],
 "metadata": {
  "kernelspec": {
   "display_name": "Python 3",
   "language": "python",
   "name": "python3"
  },
  "language_info": {
   "codemirror_mode": {
    "name": "ipython",
    "version": 3
   },
   "file_extension": ".py",
   "mimetype": "text/x-python",
   "name": "python",
   "nbconvert_exporter": "python",
   "pygments_lexer": "ipython3",
   "version": "3.6.1"
  }
 },
 "nbformat": 4,
 "nbformat_minor": 2
}
