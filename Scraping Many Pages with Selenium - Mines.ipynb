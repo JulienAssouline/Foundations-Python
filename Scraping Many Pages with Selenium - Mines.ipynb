{
 "cells": [
  {
   "cell_type": "markdown",
   "metadata": {},
   "source": [
    "# Scraping many pages + Using Selenium\n",
    "\n",
    "## The pages we'll be looking at\n",
    "\n",
    "If I wanted to read specific information about a specfic mine, it takes a few steps. **Do these steps with your browser before you try any programming.**\n",
    "\n",
    "1. Visit the [Mine Data Retrieval System](https://arlweb.msha.gov/drs/drshome.htm)\n",
    "2. Scroll down to **Mine Identification Number (ID) Search**\n",
    "3. Type in a mine ID number, such as `3503598`, click **Search**\n",
    "4. I'm on a page! It lists the MINE NAME and MINE OWNER.\n",
    "\n",
    "After searching for and finding a mine, I can use this page to **find reports about this mine**. Some of the reports are on accidents, violations, inspections, health samples and more. To get those reports:\n",
    "\n",
    "1. Search for a mine (if you haven't already)\n",
    "2. Scroll down and change **Beginning Date** to `1/1/1995` (violation reports begin in 1995, accidents begin in 1983)\n",
    "3. Select the report type of `Violations`\n",
    "4. Click **Get Report**\n",
    "5. I'm on a page! It lists ALL OF THE MINE'S VIOLATIONS.\n",
    "\n",
    "By changing the report type you're searching for you can find all sorts of different data."
   ]
  },
  {
   "cell_type": "markdown",
   "metadata": {},
   "source": [
    "# Researching mine information"
   ]
  },
  {
   "cell_type": "markdown",
   "metadata": {},
   "source": [
    "## Preparation \n",
    "\n",
    "### When you search for information on a specific mine, what URL should Selenium visit first?\n",
    "\n",
    "- *TIP: the answer is NOT `https://arlweb.msha.gov/drs/ASP/BasicMineInfonew.asp`*"
   ]
  },
  {
   "cell_type": "code",
   "execution_count": 1,
   "metadata": {
    "collapsed": true
   },
   "outputs": [],
   "source": [
    "from selenium import webdriver\n",
    "driver = webdriver.Chrome()\n",
    "driver.get(\"https://arlweb.msha.gov/drs/drshome.htm\")"
   ]
  },
  {
   "cell_type": "markdown",
   "metadata": {},
   "source": [
    "### How can you identify the text field we're going to type the Mine ID into?\n",
    "\n",
    "Selenium can find elements by:\n",
    "\n",
    "- name\n",
    "- Class\n",
    "- ID\n",
    "- CSS selector (**ASK ME WHAT THIS IS** if you don't know)\n",
    "- XPath (**ASK ME WHAT THIS IS** because you definitely don't know)\n",
    "- Link text\n",
    "- Partial link text\n",
    "\n",
    "So in other words, what's unique about this element?"
   ]
  },
  {
   "cell_type": "code",
   "execution_count": 15,
   "metadata": {
    "collapsed": true
   },
   "outputs": [],
   "source": [
    "Mine_ID = driver.find_elements_by_xpath('//*[@id=\"inputdrs\"]')\n",
    "Mine_ID[1].send_keys(\"3901432\")"
   ]
  },
  {
   "cell_type": "markdown",
   "metadata": {},
   "source": [
    "### How can you identify the search button we're going to click, or the form we're going to submit?\n",
    "\n",
    "Selenium can submit forms by either\n",
    "\n",
    "- Selecting the form and using `.submit()`, or\n",
    "- Selecting the button and using `.click()`\n",
    "\n",
    "You only need to be able to get **one, not both.**"
   ]
  },
  {
   "cell_type": "code",
   "execution_count": 16,
   "metadata": {
    "collapsed": true
   },
   "outputs": [],
   "source": [
    "search = driver.find_element_by_xpath('//*[@id=\"content\"]/table[3]/tbody/tr[3]/td[2]/input')\n",
    "search.click()\n"
   ]
  },
  {
   "cell_type": "markdown",
   "metadata": {},
   "source": [
    "### Use Selenium to search using the mine ID `3901432`. Get me the operator's name by scraping.\n",
    "\n",
    "- *TIP: You can find elements/text using Selenium, or use BeautifulSoup with `doc = BeautifulSoup(driver.page_source)`*"
   ]
  },
  {
   "cell_type": "code",
   "execution_count": 19,
   "metadata": {},
   "outputs": [
    {
     "data": {
      "text/plain": [
       "'Krueger Brothers Gravel & Dirt'"
      ]
     },
     "execution_count": 19,
     "metadata": {},
     "output_type": "execute_result"
    }
   ],
   "source": [
    "from bs4 import BeautifulSoup\n",
    "doc = BeautifulSoup(driver.page_source, \"html.parser\")\n",
    "doc.find_all(\"b\")[5].text"
   ]
  },
  {
   "cell_type": "markdown",
   "metadata": {},
   "source": [
    "# Using .apply to find data about SEVERAL mines\n",
    "\n",
    "The file `mines-subset.csv` has a list of mine IDs. We're going to scrape the operator's name for each of those mines.\n",
    "\n",
    "### Open up `mines-subset.csv` and save it into a dataframe"
   ]
  },
  {
   "cell_type": "code",
   "execution_count": 25,
   "metadata": {},
   "outputs": [
    {
     "data": {
      "text/html": [
       "<div>\n",
       "<style>\n",
       "    .dataframe thead tr:only-child th {\n",
       "        text-align: right;\n",
       "    }\n",
       "\n",
       "    .dataframe thead th {\n",
       "        text-align: left;\n",
       "    }\n",
       "\n",
       "    .dataframe tbody tr th {\n",
       "        vertical-align: top;\n",
       "    }\n",
       "</style>\n",
       "<table border=\"1\" class=\"dataframe\">\n",
       "  <thead>\n",
       "    <tr style=\"text-align: right;\">\n",
       "      <th></th>\n",
       "      <th>id</th>\n",
       "    </tr>\n",
       "  </thead>\n",
       "  <tbody>\n",
       "    <tr>\n",
       "      <th>0</th>\n",
       "      <td>4104757</td>\n",
       "    </tr>\n",
       "    <tr>\n",
       "      <th>1</th>\n",
       "      <td>801306</td>\n",
       "    </tr>\n",
       "    <tr>\n",
       "      <th>2</th>\n",
       "      <td>3609931</td>\n",
       "    </tr>\n",
       "  </tbody>\n",
       "</table>\n",
       "</div>"
      ],
      "text/plain": [
       "        id\n",
       "0  4104757\n",
       "1   801306\n",
       "2  3609931"
      ]
     },
     "execution_count": 25,
     "metadata": {},
     "output_type": "execute_result"
    }
   ],
   "source": [
    "import pandas as pd\n",
    "\n",
    "df_mines = pd.read_csv(\"mines-subset.csv\")\n",
    "df_mines[\"id\"] = df_mines[\"id\"].astype(str)\n",
    "df_mines.head()\n",
    "\n"
   ]
  },
  {
   "cell_type": "markdown",
   "metadata": {},
   "source": [
    "### Open up `mines-subset.csv` in a text editor, then look at your dataframe. Is something different about them?"
   ]
  },
  {
   "cell_type": "code",
   "execution_count": 39,
   "metadata": {
    "collapsed": true
   },
   "outputs": [],
   "source": []
  },
  {
   "cell_type": "markdown",
   "metadata": {},
   "source": [
    "### Scrape the operator's name for each of those mines and print it\n",
    "\n",
    "- *TIP: use .apply and a function*\n",
    "- *TIP: If you need help with .apply, look at the \"Using apply in pandas\" notebook *"
   ]
  },
  {
   "cell_type": "code",
   "execution_count": 55,
   "metadata": {
    "scrolled": true
   },
   "outputs": [
    {
     "data": {
      "text/html": [
       "<div>\n",
       "<style>\n",
       "    .dataframe thead tr:only-child th {\n",
       "        text-align: right;\n",
       "    }\n",
       "\n",
       "    .dataframe thead th {\n",
       "        text-align: left;\n",
       "    }\n",
       "\n",
       "    .dataframe tbody tr th {\n",
       "        vertical-align: top;\n",
       "    }\n",
       "</style>\n",
       "<table border=\"1\" class=\"dataframe\">\n",
       "  <thead>\n",
       "    <tr style=\"text-align: right;\">\n",
       "      <th></th>\n",
       "      <th>Mine ids</th>\n",
       "    </tr>\n",
       "  </thead>\n",
       "  <tbody>\n",
       "    <tr>\n",
       "      <th>0</th>\n",
       "      <td>Dirt Works</td>\n",
       "    </tr>\n",
       "    <tr>\n",
       "      <th>1</th>\n",
       "      <td>None</td>\n",
       "    </tr>\n",
       "    <tr>\n",
       "      <th>2</th>\n",
       "      <td>M.R. Dirt Inc.</td>\n",
       "    </tr>\n",
       "  </tbody>\n",
       "</table>\n",
       "</div>"
      ],
      "text/plain": [
       "         Mine ids\n",
       "0      Dirt Works\n",
       "1            None\n",
       "2  M.R. Dirt Inc."
      ]
     },
     "execution_count": 55,
     "metadata": {},
     "output_type": "execute_result"
    }
   ],
   "source": [
    "def mine_ids(row):\n",
    "    driver.get(\"https://arlweb.msha.gov/drs/drshome.htm\")\n",
    "    Mine_ID = driver.find_elements_by_xpath('//*[@id=\"inputdrs\"]')[1]\n",
    "    Mine_ID.send_keys(row['id'])\n",
    "    search = driver.find_element_by_xpath('//*[@id=\"content\"]/table[3]/tbody/tr[3]/td[2]/input')\n",
    "    search.click()\n",
    "    doc = BeautifulSoup(driver.page_source, \"html.parser\")\n",
    "    bs = doc.find_all(\"b\")\n",
    "    if len(bs) > 5:\n",
    "        mine_names = bs[5].text\n",
    "        return pd.Series({\n",
    "            \"Mine ids\": mine_names\n",
    "        })\n",
    "\n",
    "df_mines.apply(mine_ids, axis=1)\n",
    "\n",
    "\n"
   ]
  },
  {
   "cell_type": "code",
   "execution_count": 60,
   "metadata": {
    "collapsed": true
   },
   "outputs": [],
   "source": [
    "df_mines_merged = df_mines.apply(mine_ids, axis=1).join(df_mines)\n",
    "\n"
   ]
  },
  {
   "cell_type": "code",
   "execution_count": 61,
   "metadata": {},
   "outputs": [
    {
     "data": {
      "text/html": [
       "<div>\n",
       "<style>\n",
       "    .dataframe thead tr:only-child th {\n",
       "        text-align: right;\n",
       "    }\n",
       "\n",
       "    .dataframe thead th {\n",
       "        text-align: left;\n",
       "    }\n",
       "\n",
       "    .dataframe tbody tr th {\n",
       "        vertical-align: top;\n",
       "    }\n",
       "</style>\n",
       "<table border=\"1\" class=\"dataframe\">\n",
       "  <thead>\n",
       "    <tr style=\"text-align: right;\">\n",
       "      <th></th>\n",
       "      <th>Mine ids</th>\n",
       "      <th>id</th>\n",
       "    </tr>\n",
       "  </thead>\n",
       "  <tbody>\n",
       "    <tr>\n",
       "      <th>0</th>\n",
       "      <td>Dirt Works</td>\n",
       "      <td>4104757</td>\n",
       "    </tr>\n",
       "    <tr>\n",
       "      <th>1</th>\n",
       "      <td>None</td>\n",
       "      <td>801306</td>\n",
       "    </tr>\n",
       "    <tr>\n",
       "      <th>2</th>\n",
       "      <td>M.R. Dirt Inc.</td>\n",
       "      <td>3609931</td>\n",
       "    </tr>\n",
       "  </tbody>\n",
       "</table>\n",
       "</div>"
      ],
      "text/plain": [
       "         Mine ids       id\n",
       "0      Dirt Works  4104757\n",
       "1            None   801306\n",
       "2  M.R. Dirt Inc.  3609931"
      ]
     },
     "execution_count": 61,
     "metadata": {},
     "output_type": "execute_result"
    }
   ],
   "source": [
    "df_mines_merged"
   ]
  },
  {
   "cell_type": "markdown",
   "metadata": {},
   "source": [
    "### Scrape the operator's name and save it into a new column\n",
    "\n",
    "- *TIP: Use .apply and a function*\n",
    "- *TIP: Remember to use `return`*"
   ]
  },
  {
   "cell_type": "code",
   "execution_count": 57,
   "metadata": {},
   "outputs": [
    {
     "data": {
      "text/plain": [
       "<function __main__.mine_ids>"
      ]
     },
     "execution_count": 57,
     "metadata": {},
     "output_type": "execute_result"
    }
   ],
   "source": [
    "df_mines_merged = df_mines.apply(mine_ids, axis=1).join(df_mines)\n",
    "df_mines_merged"
   ]
  },
  {
   "cell_type": "markdown",
   "metadata": {},
   "source": [
    "# Researching mine violations\n",
    "\n",
    "Read the very top again to remember how to find mine violations"
   ]
  },
  {
   "cell_type": "markdown",
   "metadata": {},
   "source": [
    "### When you search for a mine's violations, what URL is Selenium going to start on?\n",
    "\n",
    "- *TIP: `requests` can send form data to load in the middle of a bunch of steps, but Selenium has to start at the beginning"
   ]
  },
  {
   "cell_type": "code",
   "execution_count": null,
   "metadata": {
    "collapsed": true
   },
   "outputs": [],
   "source": [
    "Mine_ID = driver.find_elements_by_xpath('//*[@id=\"inputdrs\"]')\n",
    "Mine_ID[1].send_keys(\"3901432\")"
   ]
  },
  {
   "cell_type": "markdown",
   "metadata": {},
   "source": [
    "### When you're searching for violations from the Mine Information page, how are you going to identify the \"Beginning Date\" field?"
   ]
  },
  {
   "cell_type": "code",
   "execution_count": 6,
   "metadata": {},
   "outputs": [],
   "source": [
    "begin_date = driver.find_element_by_xpath('//*[@id=\"content\"]/form[1]/table[2]/tbody/tr[2]/td/font/input[1]')\n",
    "begin_date.send_keys(\"1/1/1995\")"
   ]
  },
  {
   "cell_type": "markdown",
   "metadata": {},
   "source": [
    "### When you're searching for violations from the Mine Information page, how are you going to identify the \"Violations\" button?"
   ]
  },
  {
   "cell_type": "code",
   "execution_count": 8,
   "metadata": {
    "collapsed": true
   },
   "outputs": [],
   "source": [
    "violaitons = driver.find_element_by_xpath('//*[@id=\"content\"]/form[1]/table[3]/tbody/tr[2]/td[2]/table/tbody/tr[1]/td/input')\n",
    "violaitons.click()"
   ]
  },
  {
   "cell_type": "markdown",
   "metadata": {
    "collapsed": true
   },
   "source": [
    "### When you're searching for violations from the Mine Information page, how are you going to identify the form or the button to click to get a list of the violations?"
   ]
  },
  {
   "cell_type": "code",
   "execution_count": 9,
   "metadata": {
    "collapsed": true
   },
   "outputs": [],
   "source": [
    "get_report = driver.find_element_by_xpath('//*[@id=\"content\"]/form[1]/table[3]/tbody/tr[3]/td[2]/input')\n",
    "get_report.click()"
   ]
  },
  {
   "cell_type": "markdown",
   "metadata": {},
   "source": [
    "### Using the mine ID `3901432`, scrape all of their violations since 1/1/1995\n",
    "\n",
    "**Save this into a CSV called `3901432-violations.csv`.** This CSV must include the following fields:\n",
    "\n",
    "- Citation number\n",
    "- Case number\n",
    "- Standard violated\n",
    "- Link to standard\n",
    "- Proposed penalty\n",
    "- Amount paid to date\n",
    "\n",
    "**Tips:**\n",
    "\n",
    "- *TIP: It's probably worth it to print them all first, then save them to a CSV once you know it's all working.*\n",
    "- *TIP: You'll use the parent pattern - get the ROWS first (tr), then loop through and get the TABLE CELLS (td)*"
   ]
  },
  {
   "cell_type": "code",
   "execution_count": 10,
   "metadata": {
    "collapsed": true
   },
   "outputs": [],
   "source": [
    "from bs4 import BeautifulSoup\n",
    "doc = BeautifulSoup(driver.page_source, \"html.parser\")"
   ]
  },
  {
   "cell_type": "code",
   "execution_count": 93,
   "metadata": {},
   "outputs": [],
   "source": [
    "mines = []\n",
    "for i in doc.find_all(\"tr\")[28:-1]:\n",
    "    dictionary = {}\n",
    "    citation_no = i.find_all(\"font\")[4]\n",
    "    if citation_no:\n",
    "        dictionary[\"Citation number\"] = citation_no.text.strip()\n",
    "        #print(citation_no.text)\n",
    "    case_num = i.find_all(\"font\")[6]\n",
    "    if case_num:\n",
    "        dictionary[\"Case number\"] = case_num.text.strip()\n",
    "        #print(case_num.text)\n",
    "    standard_vio = i.find_all(\"font\")[21]\n",
    "    if standard_vio:\n",
    "        dictionary[\"Standard violated\"] = standard_vio.text.strip()\n",
    "        #print(standard_vio.text)\n",
    "    standard_link = i.find_all(\"font\")[20]\n",
    "    standard_link_1 = standard_link(\"a\")\n",
    "    if standard_link_1:\n",
    "        for p in standard_link_1:\n",
    "            standard_link_2 = p[\"href\"]\n",
    "            dictionary[\"Link to standard\"] = standard_link_2\n",
    "    prop_penalty = i.find_all(\"font\")[23]\n",
    "    if prop_penalty:\n",
    "        dictionary[\"Proposed penalty\"] = prop_penalty.text.strip()\n",
    "        #print(prop_penalty.text)\n",
    "    A_P_T_D = i.find_all(\"font\")[24]\n",
    "    if A_P_T_D:\n",
    "        dictionary[\"Amount paid to date\"] = A_P_T_D.text.strip()\n",
    "        #print(A_P_T_D.text)\n",
    "    mines.append(dictionary)"
   ]
  },
  {
   "cell_type": "code",
   "execution_count": 94,
   "metadata": {},
   "outputs": [
    {
     "data": {
      "text/plain": [
       "[{'Amount paid to date': '100.00',\n",
       "  'Case number': '000361866',\n",
       "  'Citation number': '8750964',\n",
       "  'Link to standard': 'http://www.gpo.gov/fdsys/pkg/CFR-2014-title30-vol1/pdf/CFR-2014-title30-vol1-sec56-18010.pdf',\n",
       "  'Proposed penalty': '100.00',\n",
       "  'Standard violated': '56.18010'},\n",
       " {'Amount paid to date': '100.00',\n",
       "  'Case number': '000260865',\n",
       "  'Citation number': '6426439',\n",
       "  'Link to standard': 'http://www.gpo.gov/fdsys/pkg/CFR-2011-title30-vol1/pdf/CFR-2011-title30-vol1-sec56-4201.pdf',\n",
       "  'Proposed penalty': '100.00',\n",
       "  'Standard violated': '56.4201(a)(2)'},\n",
       " {'Amount paid to date': '100.00',\n",
       "  'Case number': '000260865',\n",
       "  'Citation number': '6426438',\n",
       "  'Link to standard': 'http://www.gpo.gov/fdsys/pkg/CFR-2011-title30-vol1/pdf/CFR-2011-title30-vol1-sec56-4101.pdf',\n",
       "  'Proposed penalty': '100.00',\n",
       "  'Standard violated': '56.4101'},\n",
       " {'Amount paid to date': '100.00',\n",
       "  'Case number': '000260865',\n",
       "  'Citation number': '6588189',\n",
       "  'Link to standard': 'http://www.gpo.gov/fdsys/pkg/CFR-2011-title30-vol1/pdf/CFR-2011-title30-vol1-sec56-14200.pdf',\n",
       "  'Proposed penalty': '100.00',\n",
       "  'Standard violated': '56.14200'},\n",
       " {'Amount paid to date': '100.00',\n",
       "  'Case number': '000238554',\n",
       "  'Citation number': '6588210',\n",
       "  'Link to standard': 'http://www.gpo.gov/fdsys/pkg/CFR-2010-title30-vol1/pdf/CFR-2010-title30-vol1-sec50-30.pdf',\n",
       "  'Proposed penalty': '100.00',\n",
       "  'Standard violated': '50.30(a)'},\n",
       " {'Amount paid to date': '100.00',\n",
       "  'Case number': '000188398',\n",
       "  'Citation number': '6328074',\n",
       "  'Link to standard': 'http://www.gpo.gov/fdsys/pkg/CFR-2009-title30-vol1/pdf/CFR-2009-title30-vol1-sec56-11003.pdf',\n",
       "  'Proposed penalty': '100.00',\n",
       "  'Standard violated': '56.11003'},\n",
       " {'Amount paid to date': '55.00',\n",
       "  'Case number': '390143205501',\n",
       "  'Citation number': '7916117',\n",
       "  'Link to standard': 'http://www.gpo.gov/fdsys/pkg/CFR-1998-title30-vol1/pdf/CFR-1998-title30-vol1-sec56-1000.pdf',\n",
       "  'Proposed penalty': '55.00',\n",
       "  'Standard violated': '56.1000'},\n",
       " {'Amount paid to date': '55.00',\n",
       "  'Case number': '390143205501',\n",
       "  'Citation number': '7916116',\n",
       "  'Link to standard': 'http://www.gpo.gov/fdsys/pkg/CFR-1998-title30-vol1/pdf/CFR-1998-title30-vol1-sec50-30.pdf',\n",
       "  'Proposed penalty': '55.00',\n",
       "  'Standard violated': '50.30'},\n",
       " {'Amount paid to date': '55.00',\n",
       "  'Case number': '390143205502',\n",
       "  'Citation number': '7916119',\n",
       "  'Link to standard': 'http://www.gpo.gov/fdsys/pkg/CFR-1998-title30-vol1/pdf/CFR-1998-title30-vol1-sec56-18010.pdf',\n",
       "  'Proposed penalty': '55.00',\n",
       "  'Standard violated': '56.18010'},\n",
       " {'Amount paid to date': '55.00',\n",
       "  'Case number': '390143205501',\n",
       "  'Citation number': '7916118',\n",
       "  'Link to standard': 'http://www.gpo.gov/fdsys/pkg/CFR-1998-title30-vol1/pdf/CFR-1998-title30-vol1-sec56-12028.pdf',\n",
       "  'Proposed penalty': '55.00',\n",
       "  'Standard violated': '56.12028'},\n",
       " {'Amount paid to date': '55.00',\n",
       "  'Case number': '390143205501',\n",
       "  'Citation number': '7916122',\n",
       "  'Link to standard': 'http://www.gpo.gov/fdsys/pkg/CFR-1998-title30-vol1/pdf/CFR-1998-title30-vol1-sec56-20008.pdf',\n",
       "  'Proposed penalty': '55.00',\n",
       "  'Standard violated': '56.20008'},\n",
       " {'Amount paid to date': '55.00',\n",
       "  'Case number': '390143205501',\n",
       "  'Citation number': '7916125',\n",
       "  'Link to standard': 'http://www.gpo.gov/fdsys/pkg/CFR-1998-title30-vol1/pdf/CFR-1998-title30-vol1-sec56-4200.pdf',\n",
       "  'Proposed penalty': '55.00',\n",
       "  'Standard violated': '56.4200'},\n",
       " {'Amount paid to date': '55.00',\n",
       "  'Case number': '390143205501',\n",
       "  'Citation number': '7916124',\n",
       "  'Link to standard': 'http://www.gpo.gov/fdsys/pkg/CFR-1998-title30-vol1/pdf/CFR-1998-title30-vol1-sec56-14132.pdf',\n",
       "  'Proposed penalty': '55.00',\n",
       "  'Standard violated': '56.14132(a)'},\n",
       " {'Amount paid to date': '55.00',\n",
       "  'Case number': '390143205501',\n",
       "  'Citation number': '7916121',\n",
       "  'Link to standard': 'http://www.gpo.gov/fdsys/pkg/CFR-1998-title30-vol1/pdf/CFR-1998-title30-vol1-sec56-18002.pdf',\n",
       "  'Proposed penalty': '55.00',\n",
       "  'Standard violated': '56.18002'},\n",
       " {'Amount paid to date': '55.00',\n",
       "  'Case number': '390143205501',\n",
       "  'Citation number': '7916120',\n",
       "  'Link to standard': 'http://www.gpo.gov/fdsys/pkg/CFR-1998-title30-vol1/pdf/CFR-1998-title30-vol1-sec56-15001.pdf',\n",
       "  'Proposed penalty': '55.00',\n",
       "  'Standard violated': '56.15001'},\n",
       " {'Amount paid to date': '55.00',\n",
       "  'Case number': '390143205501',\n",
       "  'Citation number': '7916126',\n",
       "  'Link to standard': 'http://www.gpo.gov/fdsys/pkg/CFR-1998-title30-vol1/pdf/CFR-1998-title30-vol1-sec56-14100.pdf',\n",
       "  'Proposed penalty': '55.00',\n",
       "  'Standard violated': '56.14100(d)'},\n",
       " {'Amount paid to date': '55.00',\n",
       "  'Case number': '390143205501',\n",
       "  'Citation number': '7916115',\n",
       "  'Link to standard': 'http://www.gpo.gov/fdsys/pkg/CFR-1998-title30-vol1/pdf/CFR-1998-title30-vol1-sec41-20.pdf',\n",
       "  'Proposed penalty': '55.00',\n",
       "  'Standard violated': '41.20'}]"
      ]
     },
     "execution_count": 94,
     "metadata": {},
     "output_type": "execute_result"
    }
   ],
   "source": [
    "mines"
   ]
  },
  {
   "cell_type": "code",
   "execution_count": 95,
   "metadata": {
    "collapsed": true
   },
   "outputs": [],
   "source": [
    "import pandas as pd\n",
    "\n",
    "df = pd.DataFrame(mines)\n",
    "\n",
    "df.to_csv(\"3901432-violations.csv\", index = False)\n",
    "df_mines = pd.read_csv(\"3901432-violations.csv\")\n"
   ]
  },
  {
   "cell_type": "code",
   "execution_count": 96,
   "metadata": {},
   "outputs": [
    {
     "data": {
      "text/html": [
       "<div>\n",
       "<style>\n",
       "    .dataframe thead tr:only-child th {\n",
       "        text-align: right;\n",
       "    }\n",
       "\n",
       "    .dataframe thead th {\n",
       "        text-align: left;\n",
       "    }\n",
       "\n",
       "    .dataframe tbody tr th {\n",
       "        vertical-align: top;\n",
       "    }\n",
       "</style>\n",
       "<table border=\"1\" class=\"dataframe\">\n",
       "  <thead>\n",
       "    <tr style=\"text-align: right;\">\n",
       "      <th></th>\n",
       "      <th>Amount paid to date</th>\n",
       "      <th>Case number</th>\n",
       "      <th>Citation number</th>\n",
       "      <th>Link to standard</th>\n",
       "      <th>Proposed penalty</th>\n",
       "      <th>Standard violated</th>\n",
       "    </tr>\n",
       "  </thead>\n",
       "  <tbody>\n",
       "    <tr>\n",
       "      <th>0</th>\n",
       "      <td>100.00</td>\n",
       "      <td>000361866</td>\n",
       "      <td>8750964</td>\n",
       "      <td>http://www.gpo.gov/fdsys/pkg/CFR-2014-title30-...</td>\n",
       "      <td>100.00</td>\n",
       "      <td>56.18010</td>\n",
       "    </tr>\n",
       "    <tr>\n",
       "      <th>1</th>\n",
       "      <td>100.00</td>\n",
       "      <td>000260865</td>\n",
       "      <td>6426439</td>\n",
       "      <td>http://www.gpo.gov/fdsys/pkg/CFR-2011-title30-...</td>\n",
       "      <td>100.00</td>\n",
       "      <td>56.4201(a)(2)</td>\n",
       "    </tr>\n",
       "    <tr>\n",
       "      <th>2</th>\n",
       "      <td>100.00</td>\n",
       "      <td>000260865</td>\n",
       "      <td>6426438</td>\n",
       "      <td>http://www.gpo.gov/fdsys/pkg/CFR-2011-title30-...</td>\n",
       "      <td>100.00</td>\n",
       "      <td>56.4101</td>\n",
       "    </tr>\n",
       "    <tr>\n",
       "      <th>3</th>\n",
       "      <td>100.00</td>\n",
       "      <td>000260865</td>\n",
       "      <td>6588189</td>\n",
       "      <td>http://www.gpo.gov/fdsys/pkg/CFR-2011-title30-...</td>\n",
       "      <td>100.00</td>\n",
       "      <td>56.14200</td>\n",
       "    </tr>\n",
       "    <tr>\n",
       "      <th>4</th>\n",
       "      <td>100.00</td>\n",
       "      <td>000238554</td>\n",
       "      <td>6588210</td>\n",
       "      <td>http://www.gpo.gov/fdsys/pkg/CFR-2010-title30-...</td>\n",
       "      <td>100.00</td>\n",
       "      <td>50.30(a)</td>\n",
       "    </tr>\n",
       "  </tbody>\n",
       "</table>\n",
       "</div>"
      ],
      "text/plain": [
       "  Amount paid to date Case number Citation number  \\\n",
       "0              100.00   000361866         8750964   \n",
       "1              100.00   000260865         6426439   \n",
       "2              100.00   000260865         6426438   \n",
       "3              100.00   000260865         6588189   \n",
       "4              100.00   000238554         6588210   \n",
       "\n",
       "                                    Link to standard Proposed penalty  \\\n",
       "0  http://www.gpo.gov/fdsys/pkg/CFR-2014-title30-...           100.00   \n",
       "1  http://www.gpo.gov/fdsys/pkg/CFR-2011-title30-...           100.00   \n",
       "2  http://www.gpo.gov/fdsys/pkg/CFR-2011-title30-...           100.00   \n",
       "3  http://www.gpo.gov/fdsys/pkg/CFR-2011-title30-...           100.00   \n",
       "4  http://www.gpo.gov/fdsys/pkg/CFR-2010-title30-...           100.00   \n",
       "\n",
       "  Standard violated  \n",
       "0          56.18010  \n",
       "1     56.4201(a)(2)  \n",
       "2           56.4101  \n",
       "3          56.14200  \n",
       "4          50.30(a)  "
      ]
     },
     "execution_count": 96,
     "metadata": {},
     "output_type": "execute_result"
    }
   ],
   "source": [
    "df.head()"
   ]
  },
  {
   "cell_type": "markdown",
   "metadata": {},
   "source": [
    "# Using .apply to save mine data for SEVERAL mines\n",
    "\n",
    "The file `mines-subset.csv` has a list of mine IDs. We're going to scrape the operator's name for each of those mines.\n",
    "\n",
    "### Open up `mines-subset.csv` and save it into a dataframe"
   ]
  },
  {
   "cell_type": "code",
   "execution_count": 102,
   "metadata": {},
   "outputs": [
    {
     "data": {
      "text/html": [
       "<div>\n",
       "<style>\n",
       "    .dataframe thead tr:only-child th {\n",
       "        text-align: right;\n",
       "    }\n",
       "\n",
       "    .dataframe thead th {\n",
       "        text-align: left;\n",
       "    }\n",
       "\n",
       "    .dataframe tbody tr th {\n",
       "        vertical-align: top;\n",
       "    }\n",
       "</style>\n",
       "<table border=\"1\" class=\"dataframe\">\n",
       "  <thead>\n",
       "    <tr style=\"text-align: right;\">\n",
       "      <th></th>\n",
       "      <th>id</th>\n",
       "    </tr>\n",
       "  </thead>\n",
       "  <tbody>\n",
       "    <tr>\n",
       "      <th>0</th>\n",
       "      <td>4104757</td>\n",
       "    </tr>\n",
       "    <tr>\n",
       "      <th>1</th>\n",
       "      <td>0801306</td>\n",
       "    </tr>\n",
       "    <tr>\n",
       "      <th>2</th>\n",
       "      <td>3609931</td>\n",
       "    </tr>\n",
       "  </tbody>\n",
       "</table>\n",
       "</div>"
      ],
      "text/plain": [
       "        id\n",
       "0  4104757\n",
       "1  0801306\n",
       "2  3609931"
      ]
     },
     "execution_count": 102,
     "metadata": {},
     "output_type": "execute_result"
    }
   ],
   "source": [
    "df_mines_ids = pd.read_csv(\"mines-subset.csv\", dtype={\"id\": \"str\"})\n",
    "df_mines_ids.head()\n"
   ]
  },
  {
   "cell_type": "markdown",
   "metadata": {},
   "source": [
    "### Scrape the violations for each mine\n",
    "\n",
    "**Save each mine's violations into separate CSV files.** Each CSV file must include the following fields:\n",
    "\n",
    "- Citation number\n",
    "- Case number\n",
    "- Standard violated\n",
    "- Link to standard\n",
    "- Proposed penalty\n",
    "- Amount paid to date\n",
    "\n",
    "Make sure you are saving them into **separate files.** It might be nice to name them after the mine id.\n",
    "\n",
    "- *TIP: Use .apply for this*\n",
    "- *TIP: Print out the ID before you start scraping. That way you can take that ID and search manually to see if there is anything weird about the results.*\n",
    "- *TIP: If you need help with .apply, look at the \"Using apply in pandas\" notebook \n",
    "- *TIP: It's probably worth it to print the fields first, then save them to a CSV once you know it's all working.*"
   ]
  },
  {
   "cell_type": "code",
   "execution_count": 112,
   "metadata": {},
   "outputs": [
    {
     "name": "stdout",
     "output_type": "stream",
     "text": [
      "Failed on mine id 0801306\n",
      "Failed on mine id 0801306\n",
      "Failed on mine id 3609931\n"
     ]
    },
    {
     "data": {
      "text/plain": [
       "0    None\n",
       "1    None\n",
       "2    None\n",
       "dtype: object"
      ]
     },
     "execution_count": 112,
     "metadata": {},
     "output_type": "execute_result"
    }
   ],
   "source": [
    "def mine_ids_steroids(row):\n",
    "    driver.get(\"https://arlweb.msha.gov/drs/drshome.htm\")\n",
    "    Mine_ID = driver.find_elements_by_xpath('//*[@id=\"inputdrs\"]')[1]\n",
    "    Mine_ID.send_keys(row['id'])\n",
    "    search = driver.find_element_by_xpath('//*[@id=\"content\"]/table[3]/tbody/tr[3]/td[2]/input')\n",
    "    search.click()\n",
    "    begin_date = driver.find_element_by_xpath('//*[@id=\"content\"]/form[1]/table[2]/tbody/tr[2]/td/font/input[1]')\n",
    "    begin_date.send_keys(\"1/1/1995\")\n",
    "    violaitons = driver.find_element_by_xpath('//*[@id=\"content\"]/form[1]/table[3]/tbody/tr[2]/td[2]/table/tbody/tr[1]/td/input')\n",
    "    violaitons.click()\n",
    "    get_report = driver.find_element_by_xpath('//*[@id=\"content\"]/form[1]/table[3]/tbody/tr[3]/td[2]/input')\n",
    "    get_report.click()\n",
    "    doc = BeautifulSoup(driver.page_source, \"html.parser\")\n",
    "    mines = []\n",
    "    for i in doc.find_all(\"tr\")[28:-1]:\n",
    "        try:\n",
    "            dictionary = {}\n",
    "            citation_no = i.find_all(\"font\")[4]\n",
    "            if citation_no:\n",
    "                dictionary[\"Citation number\"] = citation_no.text.strip()\n",
    "                #print(citation_no.text)\n",
    "            case_num = i.find_all(\"font\")[6]\n",
    "            if case_num:\n",
    "                dictionary[\"Case number\"] = case_num.text.strip()\n",
    "                #print(case_num.text)\n",
    "            standard_vio = i.find_all(\"font\")[21]\n",
    "            if standard_vio:\n",
    "                dictionary[\"Standard violated\"] = standard_vio.text.strip()\n",
    "                #print(standard_vio.text)\n",
    "            standard_link = i.find_all(\"font\")[20]\n",
    "            standard_link_1 = standard_link(\"a\")\n",
    "            if standard_link_1:\n",
    "                for p in standard_link_1:\n",
    "                    standard_link_2 = p[\"href\"]\n",
    "                    dictionary[\"Link to standard\"] = standard_link_2\n",
    "            prop_penalty = i.find_all(\"font\")[23]\n",
    "            if prop_penalty:\n",
    "                dictionary[\"Proposed penalty\"] = prop_penalty.text.strip()\n",
    "                #print(prop_penalty.text)\n",
    "            A_P_T_D = i.find_all(\"font\")[24]\n",
    "            if A_P_T_D:\n",
    "                dictionary[\"Amount paid to date\"] = A_P_T_D.text.strip()\n",
    "                #print(A_P_T_D.text)\n",
    "            mines.append(dictionary)\n",
    "        except:\n",
    "            print(\"Failed on mine id\", row['id'])\n",
    "            pass\n",
    "        \n",
    "    df = pd.DataFrame(mines)\n",
    "    df.to_csv(row[\"id\"] + \".csv\", index = False)\n",
    "\n",
    "df_mines_ids.apply(mine_ids_steroids, axis=1)"
   ]
  },
  {
   "cell_type": "code",
   "execution_count": 113,
   "metadata": {},
   "outputs": [
    {
     "data": {
      "text/html": [
       "<div>\n",
       "<style>\n",
       "    .dataframe thead tr:only-child th {\n",
       "        text-align: right;\n",
       "    }\n",
       "\n",
       "    .dataframe thead th {\n",
       "        text-align: left;\n",
       "    }\n",
       "\n",
       "    .dataframe tbody tr th {\n",
       "        vertical-align: top;\n",
       "    }\n",
       "</style>\n",
       "<table border=\"1\" class=\"dataframe\">\n",
       "  <thead>\n",
       "    <tr style=\"text-align: right;\">\n",
       "      <th></th>\n",
       "      <th>Amount paid to date</th>\n",
       "      <th>Case number</th>\n",
       "      <th>Citation number</th>\n",
       "      <th>Link to standard</th>\n",
       "      <th>Proposed penalty</th>\n",
       "      <th>Standard violated</th>\n",
       "    </tr>\n",
       "  </thead>\n",
       "  <tbody>\n",
       "    <tr>\n",
       "      <th>0</th>\n",
       "      <td>100.0</td>\n",
       "      <td>374480</td>\n",
       "      <td>8778046</td>\n",
       "      <td>http://www.gpo.gov/fdsys/pkg/CFR-2014-title30-...</td>\n",
       "      <td>100.0</td>\n",
       "      <td>56.14132(a)</td>\n",
       "    </tr>\n",
       "    <tr>\n",
       "      <th>1</th>\n",
       "      <td>162.0</td>\n",
       "      <td>374480</td>\n",
       "      <td>8778047</td>\n",
       "      <td>http://www.gpo.gov/fdsys/pkg/CFR-2014-title30-...</td>\n",
       "      <td>162.0</td>\n",
       "      <td>56.18010</td>\n",
       "    </tr>\n",
       "    <tr>\n",
       "      <th>2</th>\n",
       "      <td>243.0</td>\n",
       "      <td>345454</td>\n",
       "      <td>8771783</td>\n",
       "      <td>http://www.gpo.gov/fdsys/pkg/CFR-2014-title30-...</td>\n",
       "      <td>243.0</td>\n",
       "      <td>56.9300(a)</td>\n",
       "    </tr>\n",
       "    <tr>\n",
       "      <th>3</th>\n",
       "      <td>100.0</td>\n",
       "      <td>345454</td>\n",
       "      <td>8771784</td>\n",
       "      <td>http://www.gpo.gov/fdsys/pkg/CFR-2014-title30-...</td>\n",
       "      <td>100.0</td>\n",
       "      <td>50.30(a)</td>\n",
       "    </tr>\n",
       "    <tr>\n",
       "      <th>4</th>\n",
       "      <td>100.0</td>\n",
       "      <td>348280</td>\n",
       "      <td>8771781</td>\n",
       "      <td>http://www.gpo.gov/fdsys/pkg/CFR-2014-title30-...</td>\n",
       "      <td>100.0</td>\n",
       "      <td>56.14100(b)</td>\n",
       "    </tr>\n",
       "  </tbody>\n",
       "</table>\n",
       "</div>"
      ],
      "text/plain": [
       "   Amount paid to date  Case number  Citation number  \\\n",
       "0                100.0       374480          8778046   \n",
       "1                162.0       374480          8778047   \n",
       "2                243.0       345454          8771783   \n",
       "3                100.0       345454          8771784   \n",
       "4                100.0       348280          8771781   \n",
       "\n",
       "                                    Link to standard  Proposed penalty  \\\n",
       "0  http://www.gpo.gov/fdsys/pkg/CFR-2014-title30-...             100.0   \n",
       "1  http://www.gpo.gov/fdsys/pkg/CFR-2014-title30-...             162.0   \n",
       "2  http://www.gpo.gov/fdsys/pkg/CFR-2014-title30-...             243.0   \n",
       "3  http://www.gpo.gov/fdsys/pkg/CFR-2014-title30-...             100.0   \n",
       "4  http://www.gpo.gov/fdsys/pkg/CFR-2014-title30-...             100.0   \n",
       "\n",
       "  Standard violated  \n",
       "0       56.14132(a)  \n",
       "1          56.18010  \n",
       "2        56.9300(a)  \n",
       "3          50.30(a)  \n",
       "4       56.14100(b)  "
      ]
     },
     "execution_count": 113,
     "metadata": {},
     "output_type": "execute_result"
    }
   ],
   "source": [
    "df_mine_4104757 = pd.read_csv(\"4104757.csv\")\n",
    "df_mine_4104757.head()"
   ]
  },
  {
   "cell_type": "code",
   "execution_count": 114,
   "metadata": {},
   "outputs": [
    {
     "data": {
      "text/html": [
       "<div>\n",
       "<style>\n",
       "    .dataframe thead tr:only-child th {\n",
       "        text-align: right;\n",
       "    }\n",
       "\n",
       "    .dataframe thead th {\n",
       "        text-align: left;\n",
       "    }\n",
       "\n",
       "    .dataframe tbody tr th {\n",
       "        vertical-align: top;\n",
       "    }\n",
       "</style>\n",
       "<table border=\"1\" class=\"dataframe\">\n",
       "  <thead>\n",
       "    <tr style=\"text-align: right;\">\n",
       "      <th></th>\n",
       "      <th>Amount paid to date</th>\n",
       "      <th>Case number</th>\n",
       "      <th>Citation number</th>\n",
       "      <th>Link to standard</th>\n",
       "      <th>Proposed penalty</th>\n",
       "      <th>Standard violated</th>\n",
       "    </tr>\n",
       "  </thead>\n",
       "  <tbody>\n",
       "    <tr>\n",
       "      <th>0</th>\n",
       "      <td>351.00</td>\n",
       "      <td>427623</td>\n",
       "      <td>8638781</td>\n",
       "      <td>http://www.gpo.gov/fdsys/pkg/CFR-2016-title30-...</td>\n",
       "      <td>351.00</td>\n",
       "      <td>56.12028</td>\n",
       "    </tr>\n",
       "    <tr>\n",
       "      <th>1</th>\n",
       "      <td>100.00</td>\n",
       "      <td>411633</td>\n",
       "      <td>8903432</td>\n",
       "      <td>http://www.gpo.gov/fdsys/pkg/CFR-2016-title30-...</td>\n",
       "      <td>100.00</td>\n",
       "      <td>47.41(a)</td>\n",
       "    </tr>\n",
       "    <tr>\n",
       "      <th>2</th>\n",
       "      <td>100.00</td>\n",
       "      <td>411633</td>\n",
       "      <td>8903433</td>\n",
       "      <td>http://www.gpo.gov/fdsys/pkg/CFR-2016-title30-...</td>\n",
       "      <td>100.00</td>\n",
       "      <td>56.14100(b)</td>\n",
       "    </tr>\n",
       "    <tr>\n",
       "      <th>3</th>\n",
       "      <td>117.00</td>\n",
       "      <td>411633</td>\n",
       "      <td>8903435</td>\n",
       "      <td>http://www.gpo.gov/fdsys/pkg/CFR-2016-title30-...</td>\n",
       "      <td>117.00</td>\n",
       "      <td>56.9300(a)</td>\n",
       "    </tr>\n",
       "    <tr>\n",
       "      <th>4</th>\n",
       "      <td>117.00</td>\n",
       "      <td>411633</td>\n",
       "      <td>8903434</td>\n",
       "      <td>http://www.gpo.gov/fdsys/pkg/CFR-2016-title30-...</td>\n",
       "      <td>117.00</td>\n",
       "      <td>46.11(d)</td>\n",
       "    </tr>\n",
       "  </tbody>\n",
       "</table>\n",
       "</div>"
      ],
      "text/plain": [
       "  Amount paid to date  Case number  Citation number  \\\n",
       "0              351.00       427623          8638781   \n",
       "1              100.00       411633          8903432   \n",
       "2              100.00       411633          8903433   \n",
       "3              117.00       411633          8903435   \n",
       "4              117.00       411633          8903434   \n",
       "\n",
       "                                    Link to standard Proposed penalty  \\\n",
       "0  http://www.gpo.gov/fdsys/pkg/CFR-2016-title30-...           351.00   \n",
       "1  http://www.gpo.gov/fdsys/pkg/CFR-2016-title30-...           100.00   \n",
       "2  http://www.gpo.gov/fdsys/pkg/CFR-2016-title30-...           100.00   \n",
       "3  http://www.gpo.gov/fdsys/pkg/CFR-2016-title30-...           117.00   \n",
       "4  http://www.gpo.gov/fdsys/pkg/CFR-2016-title30-...           117.00   \n",
       "\n",
       "  Standard violated  \n",
       "0          56.12028  \n",
       "1          47.41(a)  \n",
       "2       56.14100(b)  \n",
       "3        56.9300(a)  \n",
       "4          46.11(d)  "
      ]
     },
     "execution_count": 114,
     "metadata": {},
     "output_type": "execute_result"
    }
   ],
   "source": [
    "df_mine_0801306 = pd.read_csv(\"0801306.csv\")\n",
    "df_mine_0801306.head()"
   ]
  },
  {
   "cell_type": "code",
   "execution_count": 115,
   "metadata": {},
   "outputs": [
    {
     "data": {
      "text/html": [
       "<div>\n",
       "<style>\n",
       "    .dataframe thead tr:only-child th {\n",
       "        text-align: right;\n",
       "    }\n",
       "\n",
       "    .dataframe thead th {\n",
       "        text-align: left;\n",
       "    }\n",
       "\n",
       "    .dataframe tbody tr th {\n",
       "        vertical-align: top;\n",
       "    }\n",
       "</style>\n",
       "<table border=\"1\" class=\"dataframe\">\n",
       "  <thead>\n",
       "    <tr style=\"text-align: right;\">\n",
       "      <th></th>\n",
       "      <th>Amount paid to date</th>\n",
       "      <th>Case number</th>\n",
       "      <th>Citation number</th>\n",
       "      <th>Link to standard</th>\n",
       "      <th>Proposed penalty</th>\n",
       "      <th>Standard violated</th>\n",
       "    </tr>\n",
       "  </thead>\n",
       "  <tbody>\n",
       "    <tr>\n",
       "      <th>0</th>\n",
       "      <td>114.0</td>\n",
       "      <td>421654</td>\n",
       "      <td>8928850</td>\n",
       "      <td>http://www.gpo.gov/fdsys/pkg/CFR-2016-title30-...</td>\n",
       "      <td>114.0</td>\n",
       "      <td>56.9301</td>\n",
       "    </tr>\n",
       "    <tr>\n",
       "      <th>1</th>\n",
       "      <td>100.0</td>\n",
       "      <td>380669</td>\n",
       "      <td>8807882</td>\n",
       "      <td>http://www.gpo.gov/fdsys/pkg/CFR-2015-title30-...</td>\n",
       "      <td>100.0</td>\n",
       "      <td>56.14132(a)</td>\n",
       "    </tr>\n",
       "    <tr>\n",
       "      <th>2</th>\n",
       "      <td>100.0</td>\n",
       "      <td>282555</td>\n",
       "      <td>8650963</td>\n",
       "      <td>http://www.gpo.gov/fdsys/pkg/CFR-2012-title30-...</td>\n",
       "      <td>100.0</td>\n",
       "      <td>56.14100(b)</td>\n",
       "    </tr>\n",
       "    <tr>\n",
       "      <th>3</th>\n",
       "      <td>100.0</td>\n",
       "      <td>274355</td>\n",
       "      <td>8650926</td>\n",
       "      <td>http://www.gpo.gov/fdsys/pkg/CFR-2011-title30-...</td>\n",
       "      <td>100.0</td>\n",
       "      <td>56.1000</td>\n",
       "    </tr>\n",
       "    <tr>\n",
       "      <th>4</th>\n",
       "      <td>100.0</td>\n",
       "      <td>262818</td>\n",
       "      <td>8645896</td>\n",
       "      <td>http://www.gpo.gov/fdsys/pkg/CFR-2011-title30-...</td>\n",
       "      <td>100.0</td>\n",
       "      <td>56.14107(a)</td>\n",
       "    </tr>\n",
       "  </tbody>\n",
       "</table>\n",
       "</div>"
      ],
      "text/plain": [
       "   Amount paid to date  Case number  Citation number  \\\n",
       "0                114.0       421654          8928850   \n",
       "1                100.0       380669          8807882   \n",
       "2                100.0       282555          8650963   \n",
       "3                100.0       274355          8650926   \n",
       "4                100.0       262818          8645896   \n",
       "\n",
       "                                    Link to standard  Proposed penalty  \\\n",
       "0  http://www.gpo.gov/fdsys/pkg/CFR-2016-title30-...             114.0   \n",
       "1  http://www.gpo.gov/fdsys/pkg/CFR-2015-title30-...             100.0   \n",
       "2  http://www.gpo.gov/fdsys/pkg/CFR-2012-title30-...             100.0   \n",
       "3  http://www.gpo.gov/fdsys/pkg/CFR-2011-title30-...             100.0   \n",
       "4  http://www.gpo.gov/fdsys/pkg/CFR-2011-title30-...             100.0   \n",
       "\n",
       "  Standard violated  \n",
       "0           56.9301  \n",
       "1       56.14132(a)  \n",
       "2       56.14100(b)  \n",
       "3           56.1000  \n",
       "4       56.14107(a)  "
      ]
     },
     "execution_count": 115,
     "metadata": {},
     "output_type": "execute_result"
    }
   ],
   "source": [
    "df_mine_3609931 = pd.read_csv(\"3609931.csv\")\n",
    "df_mine_3609931.head()"
   ]
  },
  {
   "cell_type": "code",
   "execution_count": null,
   "metadata": {
    "collapsed": true
   },
   "outputs": [],
   "source": []
  },
  {
   "cell_type": "code",
   "execution_count": null,
   "metadata": {
    "collapsed": true
   },
   "outputs": [],
   "source": []
  }
 ],
 "metadata": {
  "kernelspec": {
   "display_name": "Python 3",
   "language": "python",
   "name": "python3"
  },
  "language_info": {
   "codemirror_mode": {
    "name": "ipython",
    "version": 3
   },
   "file_extension": ".py",
   "mimetype": "text/x-python",
   "name": "python",
   "nbconvert_exporter": "python",
   "pygments_lexer": "ipython3",
   "version": "3.6.1"
  }
 },
 "nbformat": 4,
 "nbformat_minor": 2
}
