{
 "cells": [
  {
   "cell_type": "markdown",
   "metadata": {},
   "source": [
    "## homework 4: part two: investigating lists and dictionaries using functions\n",
    "\n",
    "In this assignment I will ask you to pick five relatively short texts (poems, paragraphs, short essays, song lyrics, whatever interests you). The main thing is to make sure that each text is around 10 - 20 lines or sentences long. Below, I have selected five poems by Wallace Stevens. In each cell I have made a variable that contains each poem, and then I pass that poem through a function called `text_to_dict` that makes a dictionary for each poem. The dictionary contains the title of the poem, the full text as one string, and a list that contains each line of the poem. The function will also make lists of sentences instead of lines if you want to investigate a prose text (sentence by sentence) instead of a poem (line by line).\n",
    "\n",
    "There are two parts of this assignment. \n",
    "\n",
    "**Part 1**, which should be easy, is to replace the poems with texts of your own choice--and choose to split them by lines or sentences. \n",
    "\n",
    "**Part 2** is to write functions that and investigate your texts. If you want to focus on the functions first, you can go straight to Part 2 and use the pomes I have chosen. You can then go back and enter your own texts--your functions should work no matter what text you've chosen.\n"
   ]
  },
  {
   "cell_type": "code",
   "execution_count": 1,
   "metadata": {
    "collapsed": true
   },
   "outputs": [],
   "source": [
    "#Run this cell toImport regular expressions\n",
    "#And to initialize the all texts list that will contain all of your dictionaries of text\n",
    "import re\n",
    "all_texts = []"
   ]
  },
  {
   "cell_type": "markdown",
   "metadata": {},
   "source": [
    "** understanding the text_to_dict function**\n",
    "\n",
    "You don't have to completely understand this function to use it, but you do need to understand its parameters. It takes three parameters:\n",
    "* `title` is a string you need to write inside function's parameters\n",
    "* `text` is the variable that holds the entire text\n",
    "* `poem` True/False parameter --if it is true it will split your text by line (`\\n`) \n",
    " \tIf it is false it will split your text by sentence ('[.?!])\n",
    "\n",
    "If you look at the function you will see that it builds a dictionary with the following fields:\n",
    "* `title` is the title of the text\n",
    "* `text_as_string` is the full text as a string\n",
    "* `lines` is a list of lines or sentences\n",
    "\n",
    "It returns a dictionary with those fields."
   ]
  },
  {
   "cell_type": "code",
   "execution_count": 2,
   "metadata": {
    "collapsed": true
   },
   "outputs": [],
   "source": [
    "def text_to_dict(title,text,poem):\n",
    "    dict_of_this_text = {}\n",
    "    dict_of_this_text['title'] = title\n",
    "    dict_of_this_text['text_as_string'] = text\n",
    "    if poem:\n",
    "        text_to_list = text.strip().split('\\n')\n",
    "    else:\n",
    "        text_to_list = re.split(r\"[.?!]\",text)\n",
    "    dict_of_this_text['lines'] = text_to_list\n",
    "    return dict_of_this_text"
   ]
  },
  {
   "cell_type": "markdown",
   "metadata": {},
   "source": [
    "## Part One\n",
    "\n",
    "The next five cells are exactly the same. They define five different texts, and then they pass each text through the `text_to_dict` function. And then they add the resulting dictionary to the all_texts list. \n",
    "\n",
    "In the five cells below enter your five selected texts.\n",
    "\n",
    "**You should do no coding at any point** until the very last cell before part two."
   ]
  },
  {
   "cell_type": "code",
   "execution_count": 3,
   "metadata": {
    "collapsed": true
   },
   "outputs": [],
   "source": [
    "#To change the text, just put a new text between the quotation mark\n",
    "text0 = '''\n",
    "That's it.\n",
    "The tide's against us.\n",
    "Aye, but we have the wind.\n",
    "She'll blow us straight to the gates.\n",
    "You're coming home.\n",
    "King's Landing hasn't been home for 20 years.\n",
    "I spent most of my life dodging the royal fleet.\n",
    "And now I'm sailing right at them.\n",
    "This is the royal fleet.\n",
    "And you're not a smuggler anymore, you're the high captain.\n",
    "Of course, there are several royal fleets at the moment.\n",
    "Not after tonight.\n",
    "When the sun rises, Stannis will sit on the Iron Throne and you will be his Hand.\n",
    "'''\n",
    "#Remember: you need to type the title into the first parameter\n",
    "#If you want to split by line choose True for the third parameter\n",
    "#If you want to split by sentence, choose False\n",
    "transform_it = text_to_dict(\"Blackwater\",text0,True)\n",
    "all_texts.append(transform_it)"
   ]
  },
  {
   "cell_type": "code",
   "execution_count": 4,
   "metadata": {
    "collapsed": true
   },
   "outputs": [],
   "source": [
    "text1 = '''\n",
    "I wish to confess.\n",
    "I wish to confess.\n",
    "You wish to confess? I saved you.\n",
    "I saved this city and all your worthless lives.\n",
    "I should have let Stannis kill you all.\n",
    "Tyrion.\n",
    "Do you wish to confess? Yes, Father.\n",
    "I'm guilty.\n",
    "Guilty.\n",
    "Is that what you want to hear? You admit you poisoned the king? No, of that I'm innocent.\n",
    "I'm guilty of a far more monstrous crime.\n",
    "I am guilty of being a dwarf.\n",
    "You are not on trial for being a dwarf.\n",
    "Oh, yes, I am.\n",
    "I've been on trial for that my entire life.\n",
    "Have you nothing to say in your defense? Nothing but this-- I did not do it.\n",
    "I did not kill Joffrey, but I wish that I had.\n",
    "Watching your vicious bastard die gave me more relief than 1,000 lying whores.\n",
    "I wish I was the monster you think I am.\n",
    "I wish I had enough poison for the whole pack of you.\n",
    "I would gladly give my life to watch you all swallow it.\n",
    "Ser Meryn.\n",
    "Ser Meryn.\n",
    "Escort the prisoner back to his cell.\n",
    "I will not give my life for Joffrey's murder.\n",
    "And I know I'll get no justice here.\n",
    "So I will let the gods decide my fate.\n",
    "I demand a trial by combat.\n",
    "\n",
    "'''\n",
    "transform_it = text_to_dict(\"The Laws of Gods and Men\",text1,True)\n",
    "all_texts.append(transform_it)"
   ]
  },
  {
   "cell_type": "code",
   "execution_count": 5,
   "metadata": {
    "collapsed": true
   },
   "outputs": [],
   "source": [
    "text2 = '''\n",
    "We know no king but the King in the North whose name is Stark.\n",
    "I don't care if he's a bastard.\n",
    "Ned Stark's blood runs through his veins.\n",
    "He's my king from this day until his last day.\n",
    "(men murmuring) Lady Mormont speaks harshly and truly.\n",
    "(men murmuring) My son died for Robb Stark, the Young Wolf.\n",
    "I didn't think we'd find another king in my lifetime.\n",
    "I didn't commit my men to your cause 'cause I didn't want more Manderlys dying for nothing.\n",
    "But I was wrong.\n",
    "Jon Snow avenged the Red Wedding.\n",
    "- (men murmur) - Manderly: He is the White Wolf.\n",
    "The King in the North.\n",
    "(murmuring) I did not fight beside you on the field and I will regret that until my dying day.\n",
    "A man can only admit when he was wrong and ask forgiveness.\n",
    "There's nothing to forgive, my lord.\n",
    "There will be more fights to come.\n",
    "House Glover will stand behind House Stark as we have for a thousand years.\n",
    "(men murmur) And I will stand behind Jon Snow the King in the North! - The King in the North! - (cheering) All: The King in the North! The King in the North! The King in the North! The King in the North! The King in the North! The King in the North! The King in the North! The King in the North! The King in the North! The King in the North! The King in the North! The King in the North! The King in the North! The King in the North! The King in the North! The King in the North! The King in the North! The King in the North! The King in the North! The King in the North! The King in the North! The King in the North! (chanting fades) Man: Company halt! Halt! Halt! Come on.\n",
    "I now proclaim Cersei of the House Lannister First of Her Name, Queen of the Andals and the First Men, Protector of the Seven Kingdoms.\n",
    "Qyburn: Long may she reign.\n",
    "Crowd: Long may she reign.\n",
    "(choir singing) (men shouting) (choir continues) (men shouting) (screeches) (screeching) (dragons screeching) (screeching) (dragon screeches) \n",
    "\n",
    "'''\n",
    "transform_it = text_to_dict(\"Winds of Winter\",text2,True)\n",
    "all_texts.append(transform_it)"
   ]
  },
  {
   "cell_type": "code",
   "execution_count": 6,
   "metadata": {},
   "outputs": [
    {
     "data": {
      "text/plain": [
       "'The Laws of Gods and Men'"
      ]
     },
     "execution_count": 6,
     "metadata": {},
     "output_type": "execute_result"
    }
   ],
   "source": [
    "all_texts[1][\"title\"]"
   ]
  },
  {
   "cell_type": "code",
   "execution_count": 7,
   "metadata": {
    "collapsed": true
   },
   "outputs": [],
   "source": [
    "text3 = '''\n",
    "No, you're perfect the way you are.\n",
    "Serve me my wine.\n",
    "Well, hurry up.\n",
    "This pie is dry.\n",
    "Mm, good.\n",
    "Needs washing down.\n",
    "If it please Your Grace, Lady Sansa is very tired.\n",
    "No.\n",
    "No, you'll wait here un-- Your Grace? It's nothing.\n",
    "- He's choking! - Help the poor boy.\n",
    "- Idiots, help your king.\n",
    "- Move away! - Joffrey! Joffrey! - Help him! - Someone help him! - Joffrey! - Come with me now.\n",
    "- Joffrey! Joffrey! If you want to live, we have to leave.\n",
    "Don't touch him! Joffrey.\n",
    "Please, Joffrey.\n",
    "Joffrey, what is it? Help him! My son.\n",
    "He's gone.\n",
    "Our king is gone.\n",
    "He did this.\n",
    "He poisoned my son, your king.\n",
    "Take him.\n",
    "Take him! Take him! Take him! In a coat of gold Or a coat of red A lion still has claws And mine are long And sharp, my lord As long and sharp as yours And so he spoke and so he spoke That Lord of Castamere And now the rains Weep o'er his hall With no one there to hear Yes, now the rains Weep o'er his hall And not a soul to hear.\n",
    "\n",
    "'''\n",
    "transform_it = text_to_dict(\"The Lion and the Rose\",text3,True)\n",
    "all_texts.append(transform_it)"
   ]
  },
  {
   "cell_type": "code",
   "execution_count": 8,
   "metadata": {
    "collapsed": true
   },
   "outputs": [],
   "source": [
    "text4 = '''\n",
    "Meera: Bran, we need Hodor.\n",
    "Bran, you have to wake up.\n",
    "We need Hodor.\n",
    "(screaming) - (shrieks) - Hodor.\n",
    "Hodor.\n",
    "(snarling) Bran, we're all going to die! Meera: Bran, wake up! We're all going to die! Bran! Bran! Bran, you have to wake up.\n",
    "We need Hodor.\n",
    "Hodor.\n",
    "Hodor.\n",
    "Warg into Hodor now! Bran, wake up.\n",
    "We need Hodor.\n",
    "We need Hodor.\n",
    "Warg into Hodor now! Now! Listen to your friend, Brandon.\n",
    "Hodor: Hodor.\n",
    "Hodor.\n",
    "Hodor.\n",
    "Hodor.\n",
    "Hodor.\n",
    "Hodor.\n",
    "(shrieks) (gasps) (groans) (Summer barking) (growling) - Summer! - Leaf: Go.\n",
    "Go! (yelping) (snarling) Three-Eyed Raven: The time has come.\n",
    "Leave me.\n",
    "- What are you doing? - Go! (snarling) (snarling) (grunts) - Hodor, hurry! - (grunts) Hodor! Hold the door! Meera: Hold the door! Hold the door! Hold the door! (thumping) (wights snarling) Hold the door! - Meera: Hold the door! - Nan: Wylis! What's the matter? - Hold the door! - Come on, son.\n",
    "Hold the door! - (snarling continues) - (shouts) (screams) Hold the door! Hold the door! Hold the door! Hold the door! Hold the door! Hold the door! Hold the door! Hold the door! Hold the door! Hold the door! Hold the door! Hold the door! Hold the door! Hold the door! Hold the door! Hold door! Hold door! Hold the door! Hold the door! Hold door! Hold door! Hold door! Hodor! Hodor! Hodor! Hodor! Hodor! Hodor! \n",
    "\n",
    "'''\n",
    "transform_it = text_to_dict(\"The Door\",text4,True)\n",
    "all_texts.append(transform_it)"
   ]
  },
  {
   "cell_type": "markdown",
   "metadata": {},
   "source": [
    "Run the two cells below to confirm that first, you only have five texts in the all_texts list, and next, look at the all_texts list to see the dictionary inside it. "
   ]
  },
  {
   "cell_type": "code",
   "execution_count": 9,
   "metadata": {},
   "outputs": [
    {
     "data": {
      "text/plain": [
       "5"
      ]
     },
     "execution_count": 9,
     "metadata": {},
     "output_type": "execute_result"
    }
   ],
   "source": [
    "len(all_texts)"
   ]
  },
  {
   "cell_type": "code",
   "execution_count": 10,
   "metadata": {},
   "outputs": [
    {
     "data": {
      "text/plain": [
       "[{'lines': [\"That's it.\",\n",
       "   \"The tide's against us.\",\n",
       "   'Aye, but we have the wind.',\n",
       "   \"She'll blow us straight to the gates.\",\n",
       "   \"You're coming home.\",\n",
       "   \"King's Landing hasn't been home for 20 years.\",\n",
       "   'I spent most of my life dodging the royal fleet.',\n",
       "   \"And now I'm sailing right at them.\",\n",
       "   'This is the royal fleet.',\n",
       "   \"And you're not a smuggler anymore, you're the high captain.\",\n",
       "   'Of course, there are several royal fleets at the moment.',\n",
       "   'Not after tonight.',\n",
       "   'When the sun rises, Stannis will sit on the Iron Throne and you will be his Hand.'],\n",
       "  'text_as_string': \"\\nThat's it.\\nThe tide's against us.\\nAye, but we have the wind.\\nShe'll blow us straight to the gates.\\nYou're coming home.\\nKing's Landing hasn't been home for 20 years.\\nI spent most of my life dodging the royal fleet.\\nAnd now I'm sailing right at them.\\nThis is the royal fleet.\\nAnd you're not a smuggler anymore, you're the high captain.\\nOf course, there are several royal fleets at the moment.\\nNot after tonight.\\nWhen the sun rises, Stannis will sit on the Iron Throne and you will be his Hand.\\n\",\n",
       "  'title': 'Blackwater'},\n",
       " {'lines': ['I wish to confess.',\n",
       "   'I wish to confess.',\n",
       "   'You wish to confess? I saved you.',\n",
       "   'I saved this city and all your worthless lives.',\n",
       "   'I should have let Stannis kill you all.',\n",
       "   'Tyrion.',\n",
       "   'Do you wish to confess? Yes, Father.',\n",
       "   \"I'm guilty.\",\n",
       "   'Guilty.',\n",
       "   \"Is that what you want to hear? You admit you poisoned the king? No, of that I'm innocent.\",\n",
       "   \"I'm guilty of a far more monstrous crime.\",\n",
       "   'I am guilty of being a dwarf.',\n",
       "   'You are not on trial for being a dwarf.',\n",
       "   'Oh, yes, I am.',\n",
       "   \"I've been on trial for that my entire life.\",\n",
       "   'Have you nothing to say in your defense? Nothing but this-- I did not do it.',\n",
       "   'I did not kill Joffrey, but I wish that I had.',\n",
       "   'Watching your vicious bastard die gave me more relief than 1,000 lying whores.',\n",
       "   'I wish I was the monster you think I am.',\n",
       "   'I wish I had enough poison for the whole pack of you.',\n",
       "   'I would gladly give my life to watch you all swallow it.',\n",
       "   'Ser Meryn.',\n",
       "   'Ser Meryn.',\n",
       "   'Escort the prisoner back to his cell.',\n",
       "   \"I will not give my life for Joffrey's murder.\",\n",
       "   \"And I know I'll get no justice here.\",\n",
       "   'So I will let the gods decide my fate.',\n",
       "   'I demand a trial by combat.'],\n",
       "  'text_as_string': \"\\nI wish to confess.\\nI wish to confess.\\nYou wish to confess? I saved you.\\nI saved this city and all your worthless lives.\\nI should have let Stannis kill you all.\\nTyrion.\\nDo you wish to confess? Yes, Father.\\nI'm guilty.\\nGuilty.\\nIs that what you want to hear? You admit you poisoned the king? No, of that I'm innocent.\\nI'm guilty of a far more monstrous crime.\\nI am guilty of being a dwarf.\\nYou are not on trial for being a dwarf.\\nOh, yes, I am.\\nI've been on trial for that my entire life.\\nHave you nothing to say in your defense? Nothing but this-- I did not do it.\\nI did not kill Joffrey, but I wish that I had.\\nWatching your vicious bastard die gave me more relief than 1,000 lying whores.\\nI wish I was the monster you think I am.\\nI wish I had enough poison for the whole pack of you.\\nI would gladly give my life to watch you all swallow it.\\nSer Meryn.\\nSer Meryn.\\nEscort the prisoner back to his cell.\\nI will not give my life for Joffrey's murder.\\nAnd I know I'll get no justice here.\\nSo I will let the gods decide my fate.\\nI demand a trial by combat.\\n\\n\",\n",
       "  'title': 'The Laws of Gods and Men'},\n",
       " {'lines': ['We know no king but the King in the North whose name is Stark.',\n",
       "   \"I don't care if he's a bastard.\",\n",
       "   \"Ned Stark's blood runs through his veins.\",\n",
       "   \"He's my king from this day until his last day.\",\n",
       "   '(men murmuring) Lady Mormont speaks harshly and truly.',\n",
       "   '(men murmuring) My son died for Robb Stark, the Young Wolf.',\n",
       "   \"I didn't think we'd find another king in my lifetime.\",\n",
       "   \"I didn't commit my men to your cause 'cause I didn't want more Manderlys dying for nothing.\",\n",
       "   'But I was wrong.',\n",
       "   'Jon Snow avenged the Red Wedding.',\n",
       "   '- (men murmur) - Manderly: He is the White Wolf.',\n",
       "   'The King in the North.',\n",
       "   '(murmuring) I did not fight beside you on the field and I will regret that until my dying day.',\n",
       "   'A man can only admit when he was wrong and ask forgiveness.',\n",
       "   \"There's nothing to forgive, my lord.\",\n",
       "   'There will be more fights to come.',\n",
       "   'House Glover will stand behind House Stark as we have for a thousand years.',\n",
       "   '(men murmur) And I will stand behind Jon Snow the King in the North! - The King in the North! - (cheering) All: The King in the North! The King in the North! The King in the North! The King in the North! The King in the North! The King in the North! The King in the North! The King in the North! The King in the North! The King in the North! The King in the North! The King in the North! The King in the North! The King in the North! The King in the North! The King in the North! The King in the North! The King in the North! The King in the North! The King in the North! The King in the North! The King in the North! (chanting fades) Man: Company halt! Halt! Halt! Come on.',\n",
       "   'I now proclaim Cersei of the House Lannister First of Her Name, Queen of the Andals and the First Men, Protector of the Seven Kingdoms.',\n",
       "   'Qyburn: Long may she reign.',\n",
       "   'Crowd: Long may she reign.',\n",
       "   '(choir singing) (men shouting) (choir continues) (men shouting) (screeches) (screeching) (dragons screeching) (screeching) (dragon screeches)'],\n",
       "  'text_as_string': \"\\nWe know no king but the King in the North whose name is Stark.\\nI don't care if he's a bastard.\\nNed Stark's blood runs through his veins.\\nHe's my king from this day until his last day.\\n(men murmuring) Lady Mormont speaks harshly and truly.\\n(men murmuring) My son died for Robb Stark, the Young Wolf.\\nI didn't think we'd find another king in my lifetime.\\nI didn't commit my men to your cause 'cause I didn't want more Manderlys dying for nothing.\\nBut I was wrong.\\nJon Snow avenged the Red Wedding.\\n- (men murmur) - Manderly: He is the White Wolf.\\nThe King in the North.\\n(murmuring) I did not fight beside you on the field and I will regret that until my dying day.\\nA man can only admit when he was wrong and ask forgiveness.\\nThere's nothing to forgive, my lord.\\nThere will be more fights to come.\\nHouse Glover will stand behind House Stark as we have for a thousand years.\\n(men murmur) And I will stand behind Jon Snow the King in the North! - The King in the North! - (cheering) All: The King in the North! The King in the North! The King in the North! The King in the North! The King in the North! The King in the North! The King in the North! The King in the North! The King in the North! The King in the North! The King in the North! The King in the North! The King in the North! The King in the North! The King in the North! The King in the North! The King in the North! The King in the North! The King in the North! The King in the North! The King in the North! The King in the North! (chanting fades) Man: Company halt! Halt! Halt! Come on.\\nI now proclaim Cersei of the House Lannister First of Her Name, Queen of the Andals and the First Men, Protector of the Seven Kingdoms.\\nQyburn: Long may she reign.\\nCrowd: Long may she reign.\\n(choir singing) (men shouting) (choir continues) (men shouting) (screeches) (screeching) (dragons screeching) (screeching) (dragon screeches) \\n\\n\",\n",
       "  'title': 'Winds of Winter'},\n",
       " {'lines': [\"No, you're perfect the way you are.\",\n",
       "   'Serve me my wine.',\n",
       "   'Well, hurry up.',\n",
       "   'This pie is dry.',\n",
       "   'Mm, good.',\n",
       "   'Needs washing down.',\n",
       "   'If it please Your Grace, Lady Sansa is very tired.',\n",
       "   'No.',\n",
       "   \"No, you'll wait here un-- Your Grace? It's nothing.\",\n",
       "   \"- He's choking! - Help the poor boy.\",\n",
       "   '- Idiots, help your king.',\n",
       "   '- Move away! - Joffrey! Joffrey! - Help him! - Someone help him! - Joffrey! - Come with me now.',\n",
       "   '- Joffrey! Joffrey! If you want to live, we have to leave.',\n",
       "   \"Don't touch him! Joffrey.\",\n",
       "   'Please, Joffrey.',\n",
       "   'Joffrey, what is it? Help him! My son.',\n",
       "   \"He's gone.\",\n",
       "   'Our king is gone.',\n",
       "   'He did this.',\n",
       "   'He poisoned my son, your king.',\n",
       "   'Take him.',\n",
       "   \"Take him! Take him! Take him! In a coat of gold Or a coat of red A lion still has claws And mine are long And sharp, my lord As long and sharp as yours And so he spoke and so he spoke That Lord of Castamere And now the rains Weep o'er his hall With no one there to hear Yes, now the rains Weep o'er his hall And not a soul to hear.\"],\n",
       "  'text_as_string': \"\\nNo, you're perfect the way you are.\\nServe me my wine.\\nWell, hurry up.\\nThis pie is dry.\\nMm, good.\\nNeeds washing down.\\nIf it please Your Grace, Lady Sansa is very tired.\\nNo.\\nNo, you'll wait here un-- Your Grace? It's nothing.\\n- He's choking! - Help the poor boy.\\n- Idiots, help your king.\\n- Move away! - Joffrey! Joffrey! - Help him! - Someone help him! - Joffrey! - Come with me now.\\n- Joffrey! Joffrey! If you want to live, we have to leave.\\nDon't touch him! Joffrey.\\nPlease, Joffrey.\\nJoffrey, what is it? Help him! My son.\\nHe's gone.\\nOur king is gone.\\nHe did this.\\nHe poisoned my son, your king.\\nTake him.\\nTake him! Take him! Take him! In a coat of gold Or a coat of red A lion still has claws And mine are long And sharp, my lord As long and sharp as yours And so he spoke and so he spoke That Lord of Castamere And now the rains Weep o'er his hall With no one there to hear Yes, now the rains Weep o'er his hall And not a soul to hear.\\n\\n\",\n",
       "  'title': 'The Lion and the Rose'},\n",
       " {'lines': ['Meera: Bran, we need Hodor.',\n",
       "   'Bran, you have to wake up.',\n",
       "   'We need Hodor.',\n",
       "   '(screaming) - (shrieks) - Hodor.',\n",
       "   'Hodor.',\n",
       "   \"(snarling) Bran, we're all going to die! Meera: Bran, wake up! We're all going to die! Bran! Bran! Bran, you have to wake up.\",\n",
       "   'We need Hodor.',\n",
       "   'Hodor.',\n",
       "   'Hodor.',\n",
       "   'Warg into Hodor now! Bran, wake up.',\n",
       "   'We need Hodor.',\n",
       "   'We need Hodor.',\n",
       "   'Warg into Hodor now! Now! Listen to your friend, Brandon.',\n",
       "   'Hodor: Hodor.',\n",
       "   'Hodor.',\n",
       "   'Hodor.',\n",
       "   'Hodor.',\n",
       "   'Hodor.',\n",
       "   'Hodor.',\n",
       "   '(shrieks) (gasps) (groans) (Summer barking) (growling) - Summer! - Leaf: Go.',\n",
       "   'Go! (yelping) (snarling) Three-Eyed Raven: The time has come.',\n",
       "   'Leave me.',\n",
       "   \"- What are you doing? - Go! (snarling) (snarling) (grunts) - Hodor, hurry! - (grunts) Hodor! Hold the door! Meera: Hold the door! Hold the door! Hold the door! (thumping) (wights snarling) Hold the door! - Meera: Hold the door! - Nan: Wylis! What's the matter? - Hold the door! - Come on, son.\",\n",
       "   'Hold the door! - (snarling continues) - (shouts) (screams) Hold the door! Hold the door! Hold the door! Hold the door! Hold the door! Hold the door! Hold the door! Hold the door! Hold the door! Hold the door! Hold the door! Hold the door! Hold the door! Hold the door! Hold the door! Hold door! Hold door! Hold the door! Hold the door! Hold door! Hold door! Hold door! Hodor! Hodor! Hodor! Hodor! Hodor! Hodor!'],\n",
       "  'text_as_string': \"\\nMeera: Bran, we need Hodor.\\nBran, you have to wake up.\\nWe need Hodor.\\n(screaming) - (shrieks) - Hodor.\\nHodor.\\n(snarling) Bran, we're all going to die! Meera: Bran, wake up! We're all going to die! Bran! Bran! Bran, you have to wake up.\\nWe need Hodor.\\nHodor.\\nHodor.\\nWarg into Hodor now! Bran, wake up.\\nWe need Hodor.\\nWe need Hodor.\\nWarg into Hodor now! Now! Listen to your friend, Brandon.\\nHodor: Hodor.\\nHodor.\\nHodor.\\nHodor.\\nHodor.\\nHodor.\\n(shrieks) (gasps) (groans) (Summer barking) (growling) - Summer! - Leaf: Go.\\nGo! (yelping) (snarling) Three-Eyed Raven: The time has come.\\nLeave me.\\n- What are you doing? - Go! (snarling) (snarling) (grunts) - Hodor, hurry! - (grunts) Hodor! Hold the door! Meera: Hold the door! Hold the door! Hold the door! (thumping) (wights snarling) Hold the door! - Meera: Hold the door! - Nan: Wylis! What's the matter? - Hold the door! - Come on, son.\\nHold the door! - (snarling continues) - (shouts) (screams) Hold the door! Hold the door! Hold the door! Hold the door! Hold the door! Hold the door! Hold the door! Hold the door! Hold the door! Hold the door! Hold the door! Hold the door! Hold the door! Hold the door! Hold the door! Hold door! Hold door! Hold the door! Hold the door! Hold door! Hold door! Hold door! Hodor! Hodor! Hodor! Hodor! Hodor! Hodor! \\n\\n\",\n",
       "  'title': 'The Door'}]"
      ]
     },
     "execution_count": 10,
     "metadata": {},
     "output_type": "execute_result"
    }
   ],
   "source": [
    "all_texts"
   ]
  },
  {
   "cell_type": "markdown",
   "metadata": {},
   "source": [
    "In the cell below, loop through all_texts and print out the title of each text. (This is the only code you need to write for Part One.)"
   ]
  },
  {
   "cell_type": "code",
   "execution_count": 11,
   "metadata": {},
   "outputs": [
    {
     "name": "stdout",
     "output_type": "stream",
     "text": [
      "Blackwater\n",
      "The Laws of Gods and Men\n",
      "Winds of Winter\n",
      "The Lion and the Rose\n",
      "The Door\n"
     ]
    }
   ],
   "source": [
    "###Write your code here\n",
    "for i in all_texts:\n",
    "    print(i[\"title\"])"
   ]
  },
  {
   "cell_type": "markdown",
   "metadata": {},
   "source": [
    "## Part Two:  searching within lists and dictionaries\n",
    "In this part, we will be searching through each text and printing out a desired result. The searches, including loops and printing should all be defined in the function. The second cell should just have to function call that executes the function. I have written an example function and call for the first search. For each function that you write you should copy the original function and modify it so what does what I ask for.\n",
    "\n",
    "For the first five functions, there are no parameters passed to the functions--the calls will just execute the function. Go step-by-step and take your time."
   ]
  },
  {
   "cell_type": "code",
   "execution_count": 12,
   "metadata": {
    "collapsed": true
   },
   "outputs": [],
   "source": [
    "def get_lengths():\n",
    "    for text in all_texts:\n",
    "        print(text['title'])\n",
    "        print(len(text['text_as_string']))\n",
    "        print(\"------------\")"
   ]
  },
  {
   "cell_type": "code",
   "execution_count": 13,
   "metadata": {},
   "outputs": [
    {
     "name": "stdout",
     "output_type": "stream",
     "text": [
      "Blackwater\n",
      "493\n",
      "------------\n",
      "The Laws of Gods and Men\n",
      "1053\n",
      "------------\n",
      "Winds of Winter\n",
      "1882\n",
      "------------\n",
      "The Lion and the Rose\n",
      "941\n",
      "------------\n",
      "The Door\n",
      "1295\n",
      "------------\n"
     ]
    }
   ],
   "source": [
    "get_lengths()"
   ]
  },
  {
   "cell_type": "markdown",
   "metadata": {},
   "source": [
    "Question 1\n",
    "Now write a function that gets the **line count for each poem** (or sentence count for each piece of prose). This function is going to be very similar to the last one. Instead of accessing the whole text via text['text_as_string'] which is a string, you need to access the list of lines/sentences and get the length of that list. Everything else should be the same."
   ]
  },
  {
   "cell_type": "code",
   "execution_count": 14,
   "metadata": {
    "collapsed": true
   },
   "outputs": [],
   "source": [
    "#Write your function here, name it get_line_count()\n",
    "def get_line_count():\n",
    "    for text in all_texts:\n",
    "        print(text['title'])\n",
    "        print(len(text[\"lines\"]))\n",
    "        print(\"------------\")\n"
   ]
  },
  {
   "cell_type": "code",
   "execution_count": 15,
   "metadata": {},
   "outputs": [
    {
     "name": "stdout",
     "output_type": "stream",
     "text": [
      "Blackwater\n",
      "13\n",
      "------------\n",
      "The Laws of Gods and Men\n",
      "28\n",
      "------------\n",
      "Winds of Winter\n",
      "22\n",
      "------------\n",
      "The Lion and the Rose\n",
      "22\n",
      "------------\n",
      "The Door\n",
      "24\n",
      "------------\n"
     ]
    }
   ],
   "source": [
    "get_line_count()"
   ]
  },
  {
   "cell_type": "markdown",
   "metadata": {},
   "source": [
    "Question 2\n",
    "Now write a function that prints out a **random line or sentence from each text**. Again, this function will look much the same as the last ones, but instead of getting numbers you need to get actual lines. I have included the necessary import and an example of how to get random integers. Basically, for each text you need to get one element from the list of lines/ sentences with a random number between 0 and the length of the list."
   ]
  },
  {
   "cell_type": "code",
   "execution_count": 16,
   "metadata": {
    "collapsed": true
   },
   "outputs": [],
   "source": [
    "import random\n",
    "#from random import randint\n",
    "#Write your function here name it show_random_lines()\n",
    "def show_random_lines():\n",
    "    for text in all_texts:\n",
    "        #random_num = randint(0, len(text['lines'])\n",
    "        print(text['title'])\n",
    "        print(random.choice(text[\"lines\"]))\n",
    "        print(\"------------\")\n",
    "#This should be inside the inner loop \n",
    "#so you get a fresh random number for each text\n",
    "#And it should not be from 0 to 9, but 0 to what?\n",
    "#Keep in mind that the range (0,9) give you any number \n",
    "#from 0 to 9 including both 0 and 9."
   ]
  },
  {
   "cell_type": "code",
   "execution_count": null,
   "metadata": {
    "collapsed": true
   },
   "outputs": [],
   "source": []
  },
  {
   "cell_type": "code",
   "execution_count": 17,
   "metadata": {},
   "outputs": [
    {
     "name": "stdout",
     "output_type": "stream",
     "text": [
      "Blackwater\n",
      "Aye, but we have the wind.\n",
      "------------\n",
      "The Laws of Gods and Men\n",
      "Guilty.\n",
      "------------\n",
      "Winds of Winter\n",
      "There's nothing to forgive, my lord.\n",
      "------------\n",
      "The Lion and the Rose\n",
      "Serve me my wine.\n",
      "------------\n",
      "The Door\n",
      "We need Hodor.\n",
      "------------\n"
     ]
    }
   ],
   "source": [
    "show_random_lines()"
   ]
  },
  {
   "cell_type": "markdown",
   "metadata": {},
   "source": [
    "Question 3\n",
    "This is a little bit different--instead of printing out something from each text, I want you to **print the entire text of the longest text**. Remember in the first function, I printed out the length of each text. Well, you need to test for the longest text as you look through and when you're done looping through print out the one that is longest.\n",
    "\n",
    "**Major hints!**: To do this you will need two **tracking variables** set before the loop runs: A numerical one that tracks the longest length (the number), and string variable remembers the actual text that has that length.\n",
    "\n",
    "Like this: longest_length = 0 and longest_text = \"\"\n",
    "\n",
    "When you loop through you need to test if each text was longer than the last one, and if it is longer--you update longest_length and longest_text to reflect the highest length, and the actual text. When the loop is over you then print out that longest_text string."
   ]
  },
  {
   "cell_type": "code",
   "execution_count": 18,
   "metadata": {
    "collapsed": true
   },
   "outputs": [],
   "source": [
    "#Write your function here, name it longest_text()\n",
    "def longest_text():\n",
    "    longest_length=0\n",
    "    longest_text= \"\"\n",
    "    for text in all_texts:\n",
    "        if len(text['text_as_string']) > longest_length:\n",
    "            title = text[\"title\"]\n",
    "            longest_text = text['text_as_string']\n",
    "            longest_length = len(text['text_as_string'])\n",
    "\n",
    "    print(title,\"------\", longest_text)"
   ]
  },
  {
   "cell_type": "code",
   "execution_count": 19,
   "metadata": {},
   "outputs": [
    {
     "name": "stdout",
     "output_type": "stream",
     "text": [
      "Winds of Winter ------ \n",
      "We know no king but the King in the North whose name is Stark.\n",
      "I don't care if he's a bastard.\n",
      "Ned Stark's blood runs through his veins.\n",
      "He's my king from this day until his last day.\n",
      "(men murmuring) Lady Mormont speaks harshly and truly.\n",
      "(men murmuring) My son died for Robb Stark, the Young Wolf.\n",
      "I didn't think we'd find another king in my lifetime.\n",
      "I didn't commit my men to your cause 'cause I didn't want more Manderlys dying for nothing.\n",
      "But I was wrong.\n",
      "Jon Snow avenged the Red Wedding.\n",
      "- (men murmur) - Manderly: He is the White Wolf.\n",
      "The King in the North.\n",
      "(murmuring) I did not fight beside you on the field and I will regret that until my dying day.\n",
      "A man can only admit when he was wrong and ask forgiveness.\n",
      "There's nothing to forgive, my lord.\n",
      "There will be more fights to come.\n",
      "House Glover will stand behind House Stark as we have for a thousand years.\n",
      "(men murmur) And I will stand behind Jon Snow the King in the North! - The King in the North! - (cheering) All: The King in the North! The King in the North! The King in the North! The King in the North! The King in the North! The King in the North! The King in the North! The King in the North! The King in the North! The King in the North! The King in the North! The King in the North! The King in the North! The King in the North! The King in the North! The King in the North! The King in the North! The King in the North! The King in the North! The King in the North! The King in the North! The King in the North! (chanting fades) Man: Company halt! Halt! Halt! Come on.\n",
      "I now proclaim Cersei of the House Lannister First of Her Name, Queen of the Andals and the First Men, Protector of the Seven Kingdoms.\n",
      "Qyburn: Long may she reign.\n",
      "Crowd: Long may she reign.\n",
      "(choir singing) (men shouting) (choir continues) (men shouting) (screeches) (screeching) (dragons screeching) (screeching) (dragon screeches) \n",
      "\n",
      "\n"
     ]
    }
   ],
   "source": [
    "longest_text()"
   ]
  },
  {
   "cell_type": "markdown",
   "metadata": {},
   "source": [
    "Question 4\n",
    "This is kind of a combination of the first two functions--write a function that gets the **average line/sentence length for each text**."
   ]
  },
  {
   "cell_type": "code",
   "execution_count": 20,
   "metadata": {
    "collapsed": true
   },
   "outputs": [],
   "source": [
    "#Write your function here\n",
    "def average_line_length():\n",
    "    for text in all_texts:\n",
    "        print(text['title'])\n",
    "        print(len(text[\"text_as_string\"]) / len(text[\"lines\"]))\n",
    "        print(\"------------\")"
   ]
  },
  {
   "cell_type": "code",
   "execution_count": 21,
   "metadata": {},
   "outputs": [
    {
     "name": "stdout",
     "output_type": "stream",
     "text": [
      "Blackwater\n",
      "37.92307692307692\n",
      "------------\n",
      "The Laws of Gods and Men\n",
      "37.607142857142854\n",
      "------------\n",
      "Winds of Winter\n",
      "85.54545454545455\n",
      "------------\n",
      "The Lion and the Rose\n",
      "42.77272727272727\n",
      "------------\n",
      "The Door\n",
      "53.958333333333336\n",
      "------------\n"
     ]
    }
   ],
   "source": [
    "average_line_length()"
   ]
  },
  {
   "cell_type": "markdown",
   "metadata": {},
   "source": [
    "Question 5\n",
    "**Print the longest line/sentence in each text**. \n",
    "This is similar to question 3--but your two tracking variables (longest_length and longest_line) need to be placed right before the inside loop--and then you print the lines each time the inside loop ends."
   ]
  },
  {
   "cell_type": "code",
   "execution_count": 22,
   "metadata": {
    "collapsed": true
   },
   "outputs": [],
   "source": [
    "#Write your function here\n",
    "def longest_line_in_each():\n",
    "    for text in all_texts:\n",
    "        longest_length=0\n",
    "        longest_line= \"\"\n",
    "        line = text['lines']\n",
    "        title = text[\"title\"]\n",
    "        print(\"\\n\",title, \"----\", \"\\n\")\n",
    "        for lines in line:\n",
    "            if len(lines) > longest_length:\n",
    "                title = text[\"title\"]\n",
    "                longest_line = lines\n",
    "                longest_length = len(lines)\n",
    "                print(longest_line)\n",
    "                \n",
    "\n",
    "    #print(title, longest_line)"
   ]
  },
  {
   "cell_type": "code",
   "execution_count": 23,
   "metadata": {
    "collapsed": true
   },
   "outputs": [],
   "source": [
    "# for i in all_texts:\n",
    "#     line = i[\"lines\"]\n",
    "#     title = i[\"title\"]\n",
    "#     for n in line:\n",
    "#         print(title, n)\n"
   ]
  },
  {
   "cell_type": "code",
   "execution_count": 24,
   "metadata": {},
   "outputs": [
    {
     "name": "stdout",
     "output_type": "stream",
     "text": [
      "\n",
      " Blackwater ---- \n",
      "\n",
      "That's it.\n",
      "The tide's against us.\n",
      "Aye, but we have the wind.\n",
      "She'll blow us straight to the gates.\n",
      "King's Landing hasn't been home for 20 years.\n",
      "I spent most of my life dodging the royal fleet.\n",
      "And you're not a smuggler anymore, you're the high captain.\n",
      "When the sun rises, Stannis will sit on the Iron Throne and you will be his Hand.\n",
      "\n",
      " The Laws of Gods and Men ---- \n",
      "\n",
      "I wish to confess.\n",
      "You wish to confess? I saved you.\n",
      "I saved this city and all your worthless lives.\n",
      "Is that what you want to hear? You admit you poisoned the king? No, of that I'm innocent.\n",
      "\n",
      " Winds of Winter ---- \n",
      "\n",
      "We know no king but the King in the North whose name is Stark.\n",
      "I didn't commit my men to your cause 'cause I didn't want more Manderlys dying for nothing.\n",
      "(murmuring) I did not fight beside you on the field and I will regret that until my dying day.\n",
      "(men murmur) And I will stand behind Jon Snow the King in the North! - The King in the North! - (cheering) All: The King in the North! The King in the North! The King in the North! The King in the North! The King in the North! The King in the North! The King in the North! The King in the North! The King in the North! The King in the North! The King in the North! The King in the North! The King in the North! The King in the North! The King in the North! The King in the North! The King in the North! The King in the North! The King in the North! The King in the North! The King in the North! The King in the North! (chanting fades) Man: Company halt! Halt! Halt! Come on.\n",
      "\n",
      " The Lion and the Rose ---- \n",
      "\n",
      "No, you're perfect the way you are.\n",
      "If it please Your Grace, Lady Sansa is very tired.\n",
      "No, you'll wait here un-- Your Grace? It's nothing.\n",
      "- Move away! - Joffrey! Joffrey! - Help him! - Someone help him! - Joffrey! - Come with me now.\n",
      "Take him! Take him! Take him! In a coat of gold Or a coat of red A lion still has claws And mine are long And sharp, my lord As long and sharp as yours And so he spoke and so he spoke That Lord of Castamere And now the rains Weep o'er his hall With no one there to hear Yes, now the rains Weep o'er his hall And not a soul to hear.\n",
      "\n",
      " The Door ---- \n",
      "\n",
      "Meera: Bran, we need Hodor.\n",
      "(screaming) - (shrieks) - Hodor.\n",
      "(snarling) Bran, we're all going to die! Meera: Bran, wake up! We're all going to die! Bran! Bran! Bran, you have to wake up.\n",
      "- What are you doing? - Go! (snarling) (snarling) (grunts) - Hodor, hurry! - (grunts) Hodor! Hold the door! Meera: Hold the door! Hold the door! Hold the door! (thumping) (wights snarling) Hold the door! - Meera: Hold the door! - Nan: Wylis! What's the matter? - Hold the door! - Come on, son.\n",
      "Hold the door! - (snarling continues) - (shouts) (screams) Hold the door! Hold the door! Hold the door! Hold the door! Hold the door! Hold the door! Hold the door! Hold the door! Hold the door! Hold the door! Hold the door! Hold the door! Hold the door! Hold the door! Hold the door! Hold door! Hold door! Hold the door! Hold the door! Hold door! Hold door! Hold door! Hodor! Hodor! Hodor! Hodor! Hodor! Hodor!\n"
     ]
    }
   ],
   "source": [
    "longest_line_in_each()"
   ]
  },
  {
   "cell_type": "markdown",
   "metadata": {},
   "source": [
    "Question 6\n",
    "**Print the shortest single line/sentence out of all of the texts that is greater than zero**\n",
    "This is the tricky-ish: You need to place the tracking variables outside the loop (like question 4, but the loop through all of the lines, test for the shortest one (greater than 0)."
   ]
  },
  {
   "cell_type": "code",
   "execution_count": 97,
   "metadata": {
    "collapsed": true
   },
   "outputs": [],
   "source": [
    "#Write your function here\n",
    "def shortest_of_all_lines():\n",
    "    longest_length=0\n",
    "    longest_line= \"\"\n",
    "    list_lines = []\n",
    "    for text in all_texts:\n",
    "        line = text['lines']\n",
    "        title = text[\"title\"]\n",
    "        #for lines in line:\n",
    "        lines = sorted(line, key=len)\n",
    "        for list_all in lines:\n",
    "            list_lines.append(list_all)\n",
    "            #print(list_all) \n",
    "            #print(lines)\n",
    "    lines_smallest = sorted(list_lines, key=len)\n",
    "    #print(lines_smallest)\n",
    "    print(lines_smallest[0])\n",
    "    #print(title,\"\\n\", lines)\n",
    "\n",
    "    #print(title, longest_line)"
   ]
  },
  {
   "cell_type": "code",
   "execution_count": 98,
   "metadata": {},
   "outputs": [
    {
     "name": "stdout",
     "output_type": "stream",
     "text": [
      "No.\n"
     ]
    }
   ],
   "source": [
    "shortest_of_all_lines()\n",
    "# if len(lines) >= longest_length:\n",
    "#                 title = text[\"title\"]\n",
    "#                 longest_line = lines\n",
    "#                 longest_length = len(lines)"
   ]
  },
  {
   "cell_type": "markdown",
   "metadata": {},
   "source": [
    "## searching with regular expressions\n",
    "In the functions below you will search all the texts using regular expressions. The first few of these functions should not be too challenging--you just need to adjust the regular expression inside the function. At points it gets a little more complex as you have to control the looping through the lists and dictionaries."
   ]
  },
  {
   "cell_type": "code",
   "execution_count": 27,
   "metadata": {
    "collapsed": true
   },
   "outputs": [],
   "source": [
    "def get_this_word(word):\n",
    "    my_regex = r\"\\b\" + word + r\"\\b\"\n",
    "    for text in all_texts:\n",
    "        result = [line for line in text['lines'] if re.search(my_regex, line, re.IGNORECASE)]\n",
    "        if len(result) > 0:\n",
    "            print(text['title'])\n",
    "            [print(line) for line in result]\n",
    "            print(\"------------\")\n",
    "            "
   ]
  },
  {
   "cell_type": "code",
   "execution_count": 28,
   "metadata": {},
   "outputs": [
    {
     "name": "stdout",
     "output_type": "stream",
     "text": [
      "The Door\n",
      "Meera: Bran, we need Hodor.\n",
      "We need Hodor.\n",
      "(screaming) - (shrieks) - Hodor.\n",
      "Hodor.\n",
      "We need Hodor.\n",
      "Hodor.\n",
      "Hodor.\n",
      "Warg into Hodor now! Bran, wake up.\n",
      "We need Hodor.\n",
      "We need Hodor.\n",
      "Warg into Hodor now! Now! Listen to your friend, Brandon.\n",
      "Hodor: Hodor.\n",
      "Hodor.\n",
      "Hodor.\n",
      "Hodor.\n",
      "Hodor.\n",
      "Hodor.\n",
      "- What are you doing? - Go! (snarling) (snarling) (grunts) - Hodor, hurry! - (grunts) Hodor! Hold the door! Meera: Hold the door! Hold the door! Hold the door! (thumping) (wights snarling) Hold the door! - Meera: Hold the door! - Nan: Wylis! What's the matter? - Hold the door! - Come on, son.\n",
      "Hold the door! - (snarling continues) - (shouts) (screams) Hold the door! Hold the door! Hold the door! Hold the door! Hold the door! Hold the door! Hold the door! Hold the door! Hold the door! Hold the door! Hold the door! Hold the door! Hold the door! Hold the door! Hold the door! Hold door! Hold door! Hold the door! Hold the door! Hold door! Hold door! Hold door! Hodor! Hodor! Hodor! Hodor! Hodor! Hodor!\n",
      "------------\n"
     ]
    }
   ],
   "source": [
    "get_this_word('Hodor')"
   ]
  },
  {
   "cell_type": "markdown",
   "metadata": {},
   "source": [
    "Question 7\n",
    "Print out the lines that start with the word entered.  You just need to adjust the regular expression here."
   ]
  },
  {
   "cell_type": "code",
   "execution_count": 33,
   "metadata": {
    "collapsed": true
   },
   "outputs": [],
   "source": [
    "#Write your function here\n",
    "def line_starts_with(word):\n",
    "    my_regex = r\"^\\b\" + word + r\"\\b\"\n",
    "    for text in all_texts:\n",
    "        result = [line for line in text['lines'] if re.search(my_regex, line, re.IGNORECASE)]\n",
    "        if len(result) > 0:\n",
    "            print(text['title'])\n",
    "            [print(line) for line in result]\n",
    "            print(\"------------\")"
   ]
  },
  {
   "cell_type": "code",
   "execution_count": 34,
   "metadata": {},
   "outputs": [
    {
     "name": "stdout",
     "output_type": "stream",
     "text": [
      "Blackwater\n",
      "The tide's against us.\n",
      "------------\n",
      "Winds of Winter\n",
      "The King in the North.\n",
      "------------\n"
     ]
    }
   ],
   "source": [
    "line_starts_with('the')"
   ]
  },
  {
   "cell_type": "markdown",
   "metadata": {},
   "source": [
    "Question 8\n",
    "Print out the lines that end with the word entered.  You just need to adjust the regular expression here."
   ]
  },
  {
   "cell_type": "code",
   "execution_count": 44,
   "metadata": {
    "collapsed": true
   },
   "outputs": [],
   "source": [
    "#Write your function here\n",
    "def line_ends_with(word):\n",
    "    my_regex = r\"\\b\" + word + r\"\\W?$\"\n",
    "    for text in all_texts:\n",
    "        result = [line for line in text['lines'] if re.search(my_regex, line, re.IGNORECASE)]\n",
    "        if len(result) > 0:\n",
    "            print(text['title'])\n",
    "            [print(line) for line in result]\n",
    "            print(\"------------\")"
   ]
  },
  {
   "cell_type": "code",
   "execution_count": 46,
   "metadata": {},
   "outputs": [
    {
     "name": "stdout",
     "output_type": "stream",
     "text": [
      "The Door\n",
      "Meera: Bran, we need Hodor.\n",
      "We need Hodor.\n",
      "(screaming) - (shrieks) - Hodor.\n",
      "Hodor.\n",
      "We need Hodor.\n",
      "Hodor.\n",
      "Hodor.\n",
      "We need Hodor.\n",
      "We need Hodor.\n",
      "Hodor: Hodor.\n",
      "Hodor.\n",
      "Hodor.\n",
      "Hodor.\n",
      "Hodor.\n",
      "Hodor.\n",
      "Hold the door! - (snarling continues) - (shouts) (screams) Hold the door! Hold the door! Hold the door! Hold the door! Hold the door! Hold the door! Hold the door! Hold the door! Hold the door! Hold the door! Hold the door! Hold the door! Hold the door! Hold the door! Hold the door! Hold door! Hold door! Hold the door! Hold the door! Hold door! Hold door! Hold door! Hodor! Hodor! Hodor! Hodor! Hodor! Hodor!\n",
      "------------\n"
     ]
    }
   ],
   "source": [
    "line_ends_with('Hodor')"
   ]
  },
  {
   "cell_type": "markdown",
   "metadata": {},
   "source": [
    "Question 9\n",
    "Print out **how many times the word was found in each text.** In this case, instead of the list comprehension, you want to run a re.findall() on the string of the text (not the list) and then count the number of elements in the list of results.\n",
    "\n",
    "Hint: use the original function at the beginning of this section, and make the proper adjustments to the variable \"result\""
   ]
  },
  {
   "cell_type": "code",
   "execution_count": 78,
   "metadata": {
    "collapsed": true
   },
   "outputs": [],
   "source": [
    "#Write your function here\n",
    "def how_many_times(word):\n",
    "    my_regex = r\"\\b\" + word + r\"\\b\"\n",
    "    for text in all_texts:\n",
    "        #print(my_regex)\n",
    "        #print(text)\n",
    "        result = re.findall(my_regex, text[\"text_as_string\"], re.IGNORECASE)\n",
    "        print(text[\"title\"])\n",
    "        print(len(result))\n",
    "        print(\"------------\")"
   ]
  },
  {
   "cell_type": "code",
   "execution_count": 79,
   "metadata": {},
   "outputs": [
    {
     "name": "stdout",
     "output_type": "stream",
     "text": [
      "Blackwater\n",
      "0\n",
      "------------\n",
      "The Laws of Gods and Men\n",
      "0\n",
      "------------\n",
      "Winds of Winter\n",
      "0\n",
      "------------\n",
      "The Lion and the Rose\n",
      "0\n",
      "------------\n",
      "The Door\n",
      "26\n",
      "------------\n"
     ]
    }
   ],
   "source": [
    "how_many_times('Hodor')"
   ]
  },
  {
   "cell_type": "markdown",
   "metadata": {},
   "source": [
    "Question 10\n",
    "Print out **the text that has the highest occurrence of the word** you searched for. This is similar to the last function, but here you need tracking variables like you had in Question 3.\n"
   ]
  },
  {
   "cell_type": "code",
   "execution_count": 87,
   "metadata": {
    "collapsed": true
   },
   "outputs": [],
   "source": [
    "#Write your function here\n",
    "def text_with_most_occurance_of(word):\n",
    "    my_regex = r\"\\b\" + word + r\"\\b\"\n",
    "    longest_length = 0\n",
    "    longest_text=\"\"\n",
    "    for text in all_texts:\n",
    "        #print(my_regex)\n",
    "        #print(text)\n",
    "        result = re.findall(my_regex, text[\"text_as_string\"], re.IGNORECASE)\n",
    "        if len(result) > longest_length:\n",
    "            title = text[\"title\"]\n",
    "            longest_text = result\n",
    "            text = text[\"text_as_string\"]\n",
    "            longest_length = len(result)\n",
    "    print(title,\"\\n\",text)"
   ]
  },
  {
   "cell_type": "code",
   "execution_count": 88,
   "metadata": {},
   "outputs": [
    {
     "name": "stdout",
     "output_type": "stream",
     "text": [
      "The Door \n",
      " \n",
      "Meera: Bran, we need Hodor.\n",
      "Bran, you have to wake up.\n",
      "We need Hodor.\n",
      "(screaming) - (shrieks) - Hodor.\n",
      "Hodor.\n",
      "(snarling) Bran, we're all going to die! Meera: Bran, wake up! We're all going to die! Bran! Bran! Bran, you have to wake up.\n",
      "We need Hodor.\n",
      "Hodor.\n",
      "Hodor.\n",
      "Warg into Hodor now! Bran, wake up.\n",
      "We need Hodor.\n",
      "We need Hodor.\n",
      "Warg into Hodor now! Now! Listen to your friend, Brandon.\n",
      "Hodor: Hodor.\n",
      "Hodor.\n",
      "Hodor.\n",
      "Hodor.\n",
      "Hodor.\n",
      "Hodor.\n",
      "(shrieks) (gasps) (groans) (Summer barking) (growling) - Summer! - Leaf: Go.\n",
      "Go! (yelping) (snarling) Three-Eyed Raven: The time has come.\n",
      "Leave me.\n",
      "- What are you doing? - Go! (snarling) (snarling) (grunts) - Hodor, hurry! - (grunts) Hodor! Hold the door! Meera: Hold the door! Hold the door! Hold the door! (thumping) (wights snarling) Hold the door! - Meera: Hold the door! - Nan: Wylis! What's the matter? - Hold the door! - Come on, son.\n",
      "Hold the door! - (snarling continues) - (shouts) (screams) Hold the door! Hold the door! Hold the door! Hold the door! Hold the door! Hold the door! Hold the door! Hold the door! Hold the door! Hold the door! Hold the door! Hold the door! Hold the door! Hold the door! Hold the door! Hold door! Hold door! Hold the door! Hold the door! Hold door! Hold door! Hold door! Hodor! Hodor! Hodor! Hodor! Hodor! Hodor! \n",
      "\n",
      "\n"
     ]
    }
   ],
   "source": [
    "text_with_most_occurance_of('Hodor')"
   ]
  },
  {
   "cell_type": "markdown",
   "metadata": {},
   "source": [
    "Question 11\n",
    "Print out **lines containing words of the length asked**. We are sort of back to basics here, you just need to modify the regular expression of the first function (get_this_word(word)) so that it can take a number parameter for the length of characters in a word."
   ]
  },
  {
   "cell_type": "code",
   "execution_count": 93,
   "metadata": {},
   "outputs": [],
   "source": [
    "#Write your function here\n",
    "def lines_with_words_this_length(word):\n",
    "    my_regex = r\"^.{\" + word + r\"}.$\"\n",
    "    for text in all_texts:\n",
    "        result = [line for line in text['lines'] if re.search(my_regex, line, re.IGNORECASE)]\n",
    "        if len(result) > 0:\n",
    "            print(text['title'])\n",
    "            [print(line) for line in result]\n",
    "            print(\"------------\")"
   ]
  },
  {
   "cell_type": "code",
   "execution_count": 94,
   "metadata": {},
   "outputs": [
    {
     "name": "stdout",
     "output_type": "stream",
     "text": [
      "The Laws of Gods and Men\n",
      "I'm guilty.\n",
      "------------\n"
     ]
    }
   ],
   "source": [
    "lines_with_words_this_length('10')"
   ]
  },
  {
   "cell_type": "markdown",
   "metadata": {
    "collapsed": true
   },
   "source": [
    "**Final question:** in this cell, describe two functions that you would like to write, not ones that you're able to write, but ones you think would be useful or interesting or fun."
   ]
  },
  {
   "cell_type": "code",
   "execution_count": null,
   "metadata": {
    "collapsed": true
   },
   "outputs": [],
   "source": [
    "## 1. I'd like to create a theme function for charting in matplotlib. For example, there is a fivetheirtyeight \n",
    "# style theme method, which one can call. I would like to create one for myself, not exactly like the fivetheirtyeight\n",
    "# theme, but where I can control each parameter of the chart.\n",
    "\n",
    "# A general function that would allow me to scrape a specific website, so that I don't need to completely re-write my \n",
    "# when Im scrapping it again. "
   ]
  }
 ],
 "metadata": {
  "kernelspec": {
   "display_name": "Python 3",
   "language": "python",
   "name": "python3"
  },
  "language_info": {
   "codemirror_mode": {
    "name": "ipython",
    "version": 3
   },
   "file_extension": ".py",
   "mimetype": "text/x-python",
   "name": "python",
   "nbconvert_exporter": "python",
   "pygments_lexer": "ipython3",
   "version": "3.6.1"
  }
 },
 "nbformat": 4,
 "nbformat_minor": 2
}
